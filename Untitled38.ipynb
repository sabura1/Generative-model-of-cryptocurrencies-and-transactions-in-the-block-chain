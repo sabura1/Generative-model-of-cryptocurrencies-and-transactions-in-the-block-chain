{
  "nbformat": 4,
  "nbformat_minor": 0,
  "metadata": {
    "colab": {
      "provenance": []
    },
    "kernelspec": {
      "name": "python3",
      "display_name": "Python 3"
    },
    "language_info": {
      "name": "python"
    }
  },
  "cells": [
    {
      "cell_type": "code",
      "source": [
        "import yfinance as yf\n",
        "import pandas as pd\n",
        "import numpy as np\n",
        "from sklearn.preprocessing import StandardScaler\n",
        "from sklearn.metrics import accuracy_score, classification_report\n",
        "import torch\n",
        "import torch.nn as nn\n",
        "import torch.optim as optim\n",
        "from torch.utils.data import DataLoader, TensorDataset\n",
        "from collections import Counter\n",
        "\n",
        "# ⚙️ Настройки\n",
        "DEVICE = torch.device(\"cuda\" if torch.cuda.is_available() else \"cpu\")\n",
        "CRYPTO_SYMBOLS = [\"BTC-USD\", \"ETH-USD\", \"BNB-USD\", \"ADA-USD\"]\n",
        "START_DATE = \"2015-01-01\"\n",
        "END_DATE = \"2024-12-31\"\n",
        "FEATURES = [\"Open\", \"High\", \"Low\", \"Close\", \"Volume\"]\n",
        "\n",
        "LATENT_SIZE = 64\n",
        "EPOCHS_AE = 20\n",
        "EPOCHS_LSTM = 20\n",
        "BATCH_SIZE = 32\n",
        "LR = 1e-3\n",
        "WINDOW_SIZE = 10\n",
        "PRED_OFFSET = 5\n",
        "\n",
        "# 📥 Загрузка и подготовка данных\n",
        "X_list, y_list = [], []\n",
        "scalers_X, scalers_y = {}, {}\n",
        "\n",
        "for sym in CRYPTO_SYMBOLS:\n",
        "    print(f\"\\n📥 Загружаем и обрабатываем {sym}...\")\n",
        "    df = yf.download(sym, start=START_DATE, end=END_DATE).dropna()\n",
        "    df = df[[\"Open\", \"High\", \"Low\", \"Close\", \"Volume\"]].copy()\n",
        "\n",
        "    close_prices = df[\"Close\"].values.reshape(-1, 1)\n",
        "\n",
        "    scaler_X = StandardScaler()\n",
        "    X_scaled = scaler_X.fit_transform(df)\n",
        "\n",
        "    scaler_y = StandardScaler()\n",
        "    y_scaled = scaler_y.fit_transform(close_prices).flatten()\n",
        "\n",
        "    print(f\"{sym}: X_scaled shape = {X_scaled.shape}\")\n",
        "\n",
        "    X_list.append(torch.tensor(X_scaled, dtype=torch.float32))\n",
        "    y_list.append(torch.tensor(y_scaled, dtype=torch.float32))\n",
        "\n",
        "    scalers_X[sym] = scaler_X\n",
        "    scalers_y[sym] = scaler_y\n",
        "\n",
        "X_all = torch.cat(X_list, dim=0).to(DEVICE)\n",
        "y_all = torch.cat(y_list, dim=0).to(DEVICE)\n",
        "\n",
        "print(f\"\\n✅ Всего данных: {X_all.shape[0]} временных точек\")\n",
        "\n",
        "# 🧱 Autoencoder\n",
        "class Encoder(nn.Module):\n",
        "    def __init__(self):\n",
        "        super().__init__()\n",
        "        self.net = nn.Sequential(\n",
        "            nn.Linear(5, 128), nn.ReLU(), nn.Dropout(0.1),\n",
        "            nn.Linear(128, 64), nn.ReLU(), nn.Dropout(0.1),\n",
        "            nn.Linear(64, LATENT_SIZE)\n",
        "        )\n",
        "    def forward(self, x): return self.net(x)\n",
        "\n",
        "class Decoder(nn.Module):\n",
        "    def __init__(self):\n",
        "        super().__init__()\n",
        "        self.net = nn.Sequential(\n",
        "            nn.Linear(LATENT_SIZE, 64), nn.ReLU(), nn.Dropout(0.1),\n",
        "            nn.Linear(64, 128), nn.ReLU(),\n",
        "            nn.Linear(128, 5)\n",
        "        )\n",
        "    def forward(self, z): return self.net(z)\n",
        "\n",
        "encoder, decoder = Encoder().to(DEVICE), Decoder().to(DEVICE)\n",
        "ae_optim = optim.Adam(list(encoder.parameters()) + list(decoder.parameters()), lr=LR)\n",
        "ae_loss = nn.MSELoss()\n",
        "loader = DataLoader(TensorDataset(X_all), batch_size=BATCH_SIZE, shuffle=True)\n",
        "\n",
        "# 🔧 Обучение Autoencoder\n",
        "print(\"🧠 Обучение Autoencoder...\")\n",
        "for epoch in range(EPOCHS_AE):\n",
        "    encoder.train(); decoder.train(); epoch_loss = 0\n",
        "    for (batch,) in loader:\n",
        "        z = encoder(batch)\n",
        "        recon = decoder(z)\n",
        "        loss = ae_loss(recon, batch)\n",
        "        ae_optim.zero_grad(); loss.backward(); ae_optim.step()\n",
        "        epoch_loss += loss.item()\n",
        "    print(f\"AE Эпоха {epoch+1}, Loss: {epoch_loss / len(loader):.4f}\")\n",
        "\n",
        "# 📦 Латентные признаки\n",
        "encoder.eval()\n",
        "with torch.no_grad():\n",
        "    latent = encoder(X_all).cpu().numpy()\n",
        "y_scaled_all = y_all.cpu().numpy()\n",
        "\n",
        "# 🔁 Последовательности и метки\n",
        "def create_classification_seq(X, y, win=10, offset=5):\n",
        "    X_seq, y_seq = [], []\n",
        "    for i in range(len(X) - win - offset):\n",
        "        X_seq.append(X[i:i+win])\n",
        "        delta = y[i+win + offset] - y[i+win]\n",
        "        label = 1 if delta > 0 else 0\n",
        "        y_seq.append(label)\n",
        "    return np.array(X_seq), np.array(y_seq)\n",
        "\n",
        "X_seq, y_seq = create_classification_seq(latent, y_scaled_all, WINDOW_SIZE, PRED_OFFSET)\n",
        "\n",
        "print(\"📊 Распределение классов:\", Counter(y_seq))\n",
        "\n",
        "# 🔀 Train/Test split\n",
        "split = int(len(X_seq) * 0.8)\n",
        "X_train, X_test = X_seq[:split], X_seq[split:]\n",
        "y_train, y_test = y_seq[:split], y_seq[split:]\n",
        "\n",
        "X_train = torch.tensor(X_train, dtype=torch.float32)\n",
        "y_train = torch.tensor(y_train, dtype=torch.float32).unsqueeze(1)\n",
        "X_test = torch.tensor(X_test, dtype=torch.float32)\n",
        "y_test = torch.tensor(y_test, dtype=torch.float32).unsqueeze(1)\n",
        "\n",
        "# 🧠 Улучшенная LSTM модель\n",
        "class LSTMClassifier(nn.Module):\n",
        "    def __init__(self):\n",
        "        super().__init__()\n",
        "        self.lstm = nn.LSTM(LATENT_SIZE, 32, batch_first=True)\n",
        "        self.norm = nn.BatchNorm1d(32)\n",
        "        self.dropout = nn.Dropout(0.2)\n",
        "        self.fc = nn.Linear(32, 1)  # <-- без sigmoid\n",
        "\n",
        "    def forward(self, x):\n",
        "        out, _ = self.lstm(x)\n",
        "        last = out[:, -1, :]\n",
        "        last = self.norm(last)\n",
        "        last = self.dropout(last)\n",
        "        return self.fc(last)  # <-- логиты\n",
        "\n",
        "model = LSTMClassifier().to(DEVICE)\n",
        "\n",
        "# ⚖️ pos_weight\n",
        "num_pos = y_train.sum().item()\n",
        "num_neg = len(y_train) - num_pos\n",
        "pos_weight = torch.tensor([num_neg / num_pos]).to(DEVICE)\n",
        "\n",
        "loss_fn = nn.BCEWithLogitsLoss(pos_weight=pos_weight)\n",
        "opt = optim.Adam(model.parameters(), lr=1e-3)\n",
        "scheduler = optim.lr_scheduler.ReduceLROnPlateau(opt, mode='min', factor=0.5, patience=3, verbose=True)\n",
        "\n",
        "# 🔧 Обучение LSTM\n",
        "print(\"🧠 Обучение LSTM (classification)...\")\n",
        "for epoch in range(EPOCHS_LSTM):\n",
        "    model.train()\n",
        "    epoch_loss = 0\n",
        "    for xb, yb in DataLoader(TensorDataset(X_train, y_train), batch_size=BATCH_SIZE, shuffle=True):\n",
        "        xb, yb = xb.to(DEVICE), yb.to(DEVICE)\n",
        "        pred = model(xb)\n",
        "        loss = loss_fn(pred, yb)\n",
        "        opt.zero_grad(); loss.backward(); opt.step()\n",
        "        epoch_loss += loss.item()\n",
        "    avg_loss = epoch_loss / len(X_train)\n",
        "    scheduler.step(avg_loss)\n",
        "    print(f\"Эпоха {epoch+1}, Loss: {avg_loss:.4f}\")\n",
        "\n",
        "# 🧪 Оценка\n",
        "model.eval()\n",
        "with torch.no_grad():\n",
        "    logits = model(X_test.to(DEVICE)).cpu().numpy()\n",
        "    probs = 1 / (1 + np.exp(-logits))  # сигмоида вручную\n",
        "    y_pred_class = (probs > 0.5).astype(int)\n",
        "    y_true_class = y_test.cpu().numpy().astype(int)\n",
        "\n",
        "# 📊 Метрики\n",
        "print(f\"\\n📈 Accuracy модели: {accuracy_score(y_true_class, y_pred_class):.4f}\")\n",
        "print(\"\\n📋 Classification Report:\")\n",
        "print(classification_report(y_true_class, y_pred_class))\n",
        "\n",
        "# 🤖 Наивная модель\n",
        "baseline_pred = np.ones_like(y_true_class)\n",
        "baseline_acc = accuracy_score(y_true_class, baseline_pred)\n",
        "print(f\"\\n🤖 Наивная модель (всегда 'вверх') Accuracy: {baseline_acc:.4f}\")"
      ],
      "metadata": {
        "colab": {
          "base_uri": "https://localhost:8080/"
        },
        "id": "KAwWh5Hy1Bv7",
        "outputId": "717eb62e-1926-4f87-d573-5f701d49acac"
      },
      "execution_count": 17,
      "outputs": [
        {
          "output_type": "stream",
          "name": "stderr",
          "text": [
            "[*********************100%***********************]  1 of 1 completed\n",
            "[*********************100%***********************]  1 of 1 completed"
          ]
        },
        {
          "output_type": "stream",
          "name": "stdout",
          "text": [
            "\n",
            "📥 Загружаем и обрабатываем BTC-USD...\n",
            "BTC-USD: X_scaled shape = (3652, 5)\n",
            "\n",
            "📥 Загружаем и обрабатываем ETH-USD...\n"
          ]
        },
        {
          "output_type": "stream",
          "name": "stderr",
          "text": [
            "\n",
            "[*********************100%***********************]  1 of 1 completed\n",
            "[*********************100%***********************]  1 of 1 completed\n"
          ]
        },
        {
          "output_type": "stream",
          "name": "stdout",
          "text": [
            "ETH-USD: X_scaled shape = (2609, 5)\n",
            "\n",
            "📥 Загружаем и обрабатываем BNB-USD...\n",
            "BNB-USD: X_scaled shape = (2609, 5)\n",
            "\n",
            "📥 Загружаем и обрабатываем ADA-USD...\n",
            "ADA-USD: X_scaled shape = (2609, 5)\n",
            "\n",
            "✅ Всего данных: 11479 временных точек\n",
            "🧠 Обучение Autoencoder...\n",
            "AE Эпоха 1, Loss: 0.0738\n",
            "AE Эпоха 2, Loss: 0.0177\n",
            "AE Эпоха 3, Loss: 0.0142\n",
            "AE Эпоха 4, Loss: 0.0136\n",
            "AE Эпоха 5, Loss: 0.0137\n",
            "AE Эпоха 6, Loss: 0.0127\n",
            "AE Эпоха 7, Loss: 0.0107\n",
            "AE Эпоха 8, Loss: 0.0106\n",
            "AE Эпоха 9, Loss: 0.0113\n",
            "AE Эпоха 10, Loss: 0.0086\n",
            "AE Эпоха 11, Loss: 0.0089\n",
            "AE Эпоха 12, Loss: 0.0098\n",
            "AE Эпоха 13, Loss: 0.0087\n",
            "AE Эпоха 14, Loss: 0.0087\n",
            "AE Эпоха 15, Loss: 0.0087\n",
            "AE Эпоха 16, Loss: 0.0105\n",
            "AE Эпоха 17, Loss: 0.0084\n",
            "AE Эпоха 18, Loss: 0.0077\n",
            "AE Эпоха 19, Loss: 0.0083\n",
            "AE Эпоха 20, Loss: 0.0064\n",
            "📊 Распределение классов: Counter({np.int64(1): 6050, np.int64(0): 5414})\n",
            "🧠 Обучение LSTM (classification)...\n"
          ]
        },
        {
          "output_type": "stream",
          "name": "stderr",
          "text": [
            "/usr/local/lib/python3.11/dist-packages/torch/optim/lr_scheduler.py:62: UserWarning: The verbose parameter is deprecated. Please use get_last_lr() to access the learning rate.\n",
            "  warnings.warn(\n"
          ]
        },
        {
          "output_type": "stream",
          "name": "stdout",
          "text": [
            "Эпоха 1, Loss: 0.0205\n",
            "Эпоха 2, Loss: 0.0203\n",
            "Эпоха 3, Loss: 0.0202\n",
            "Эпоха 4, Loss: 0.0201\n",
            "Эпоха 5, Loss: 0.0201\n",
            "Эпоха 6, Loss: 0.0201\n",
            "Эпоха 7, Loss: 0.0201\n",
            "Эпоха 8, Loss: 0.0201\n",
            "Эпоха 9, Loss: 0.0201\n",
            "Эпоха 10, Loss: 0.0200\n",
            "Эпоха 11, Loss: 0.0200\n",
            "Эпоха 12, Loss: 0.0201\n",
            "Эпоха 13, Loss: 0.0200\n",
            "Эпоха 14, Loss: 0.0200\n",
            "Эпоха 15, Loss: 0.0200\n",
            "Эпоха 16, Loss: 0.0200\n",
            "Эпоха 17, Loss: 0.0200\n",
            "Эпоха 18, Loss: 0.0200\n",
            "Эпоха 19, Loss: 0.0200\n",
            "Эпоха 20, Loss: 0.0200\n",
            "\n",
            "📈 Accuracy модели: 0.5294\n",
            "\n",
            "📋 Classification Report:\n",
            "              precision    recall  f1-score   support\n",
            "\n",
            "           0       0.53      0.60      0.56      1154\n",
            "           1       0.53      0.46      0.49      1139\n",
            "\n",
            "    accuracy                           0.53      2293\n",
            "   macro avg       0.53      0.53      0.53      2293\n",
            "weighted avg       0.53      0.53      0.53      2293\n",
            "\n",
            "\n",
            "🤖 Наивная модель (всегда 'вверх') Accuracy: 0.4967\n"
          ]
        }
      ]
    },
    {
      "cell_type": "code",
      "source": [
        "from sklearn.linear_model import LogisticRegression\n",
        "\n",
        "# 🧪 Используем те же данные\n",
        "X_train_lr = X_train[:, -1, :].numpy()  # только последний шаг из последовательности\n",
        "X_test_lr = X_test[:, -1, :].numpy()\n",
        "y_train_lr = y_train.numpy().flatten()\n",
        "y_test_lr = y_test.numpy().flatten()\n",
        "\n",
        "# 🔧 Обучаем логистическую регрессию\n",
        "print(\"\\n⚖️ Обучаем Logistic Regression...\")\n",
        "lr_model = LogisticRegression(max_iter=1000)\n",
        "lr_model.fit(X_train_lr, y_train_lr)\n",
        "\n",
        "# 🔍 Предсказания\n",
        "y_pred_lr = lr_model.predict(X_test_lr)\n",
        "\n",
        "# 📊 Метрики\n",
        "acc_lr = accuracy_score(y_test_lr, y_pred_lr)\n",
        "print(f\"\\n📈 Accuracy Logistic Regression: {acc_lr:.4f}\")\n",
        "print(\"\\n📋 Classification Report (LR):\")\n",
        "print(classification_report(y_test_lr, y_pred_lr))"
      ],
      "metadata": {
        "colab": {
          "base_uri": "https://localhost:8080/"
        },
        "id": "QzAvGgry1CGs",
        "outputId": "f8468e6a-2090-4222-dbe4-6426fd984cdd"
      },
      "execution_count": 18,
      "outputs": [
        {
          "output_type": "stream",
          "name": "stdout",
          "text": [
            "\n",
            "⚖️ Обучаем Logistic Regression...\n",
            "\n",
            "📈 Accuracy Logistic Regression: 0.5155\n",
            "\n",
            "📋 Classification Report (LR):\n",
            "              precision    recall  f1-score   support\n",
            "\n",
            "         0.0       0.62      0.10      0.17      1154\n",
            "         1.0       0.51      0.94      0.66      1139\n",
            "\n",
            "    accuracy                           0.52      2293\n",
            "   macro avg       0.56      0.52      0.41      2293\n",
            "weighted avg       0.56      0.52      0.41      2293\n",
            "\n"
          ]
        }
      ]
    },
    {
      "cell_type": "code",
      "source": [
        "from sklearn.ensemble import RandomForestClassifier\n",
        "\n",
        "print(\"\\n🌲 Обучаем Random Forest...\")\n",
        "rf_model = RandomForestClassifier(n_estimators=100, random_state=42)\n",
        "rf_model.fit(X_train_lr, y_train_lr)\n",
        "\n",
        "y_pred_rf = rf_model.predict(X_test_lr)\n",
        "\n",
        "acc_rf = accuracy_score(y_test_lr, y_pred_rf)\n",
        "print(f\"\\n📈 Accuracy Random Forest: {acc_rf:.4f}\")\n",
        "print(\"\\n📋 Classification Report (RF):\")\n",
        "print(classification_report(y_test_lr, y_pred_rf))"
      ],
      "metadata": {
        "colab": {
          "base_uri": "https://localhost:8080/"
        },
        "id": "g6bPdKn55ChE",
        "outputId": "2ba72e52-da5f-4969-b2d4-a9cd537ad6aa"
      },
      "execution_count": 19,
      "outputs": [
        {
          "output_type": "stream",
          "name": "stdout",
          "text": [
            "\n",
            "🌲 Обучаем Random Forest...\n",
            "\n",
            "📈 Accuracy Random Forest: 0.5294\n",
            "\n",
            "📋 Classification Report (RF):\n",
            "              precision    recall  f1-score   support\n",
            "\n",
            "         0.0       0.54      0.40      0.46      1154\n",
            "         1.0       0.52      0.66      0.58      1139\n",
            "\n",
            "    accuracy                           0.53      2293\n",
            "   macro avg       0.53      0.53      0.52      2293\n",
            "weighted avg       0.53      0.53      0.52      2293\n",
            "\n"
          ]
        }
      ]
    },
    {
      "cell_type": "code",
      "source": [
        "from sklearn.metrics import precision_score, recall_score, f1_score\n",
        "\n",
        "# Метрики для всех моделей\n",
        "results = {}\n",
        "\n",
        "def evaluate_model(name, y_true, y_pred):\n",
        "    acc = accuracy_score(y_true, y_pred)\n",
        "    prec = precision_score(y_true, y_pred)\n",
        "    rec = recall_score(y_true, y_pred)\n",
        "    f1 = f1_score(y_true, y_pred)\n",
        "    results[name] = {\n",
        "        \"Accuracy\": acc,\n",
        "        \"Precision\": prec,\n",
        "        \"Recall\": rec,\n",
        "        \"F1-score\": f1\n",
        "    }\n",
        "\n",
        "# Наивная модель\n",
        "evaluate_model(\"Naive (Always Up)\", y_true_class, baseline_pred)\n",
        "\n",
        "# LSTM\n",
        "evaluate_model(\"LSTM\", y_true_class, y_pred_class)\n",
        "\n",
        "# Logistic Regression\n",
        "evaluate_model(\"Logistic Regression\", y_test_lr, y_pred_lr)\n",
        "\n",
        "# Random Forest\n",
        "evaluate_model(\"Random Forest\", y_test_lr, y_pred_rf)"
      ],
      "metadata": {
        "id": "0afzzqJR5F31"
      },
      "execution_count": 20,
      "outputs": []
    },
    {
      "cell_type": "code",
      "source": [
        "import pandas as pd\n",
        "\n",
        "# Таблица\n",
        "df_results = pd.DataFrame(results).T\n",
        "df_results = df_results[[\"Accuracy\", \"Precision\", \"Recall\", \"F1-score\"]]  # порядок колонок\n",
        "\n",
        "print(\"\\n📋 Таблица результатов моделей:\")\n",
        "print(df_results.round(4))"
      ],
      "metadata": {
        "colab": {
          "base_uri": "https://localhost:8080/"
        },
        "id": "A2fJg49o5f73",
        "outputId": "f136896a-ec40-4115-e1c7-abe7c31b7ced"
      },
      "execution_count": 21,
      "outputs": [
        {
          "output_type": "stream",
          "name": "stdout",
          "text": [
            "\n",
            "📋 Таблица результатов моделей:\n",
            "                     Accuracy  Precision  Recall  F1-score\n",
            "Naive (Always Up)      0.4967     0.4967  1.0000    0.6638\n",
            "LSTM                   0.5294     0.5302  0.4627    0.4941\n",
            "Logistic Regression    0.5155     0.5066  0.9377    0.6578\n",
            "Random Forest          0.5294     0.5208  0.6585    0.5816\n"
          ]
        }
      ]
    },
    {
      "cell_type": "code",
      "source": [
        "import matplotlib.pyplot as plt\n",
        "\n",
        "plt.figure(figsize=(10, 5))\n",
        "plt.bar(df_results.index, df_results[\"Accuracy\"], color='skyblue')\n",
        "plt.axhline(df_results.loc[\"Naive (Always Up)\", \"Accuracy\"], color='red', linestyle='--', label='Наивная модель')\n",
        "plt.title(\"📊 Сравнение Accuracy моделей\")\n",
        "plt.ylabel(\"Accuracy\")\n",
        "plt.xticks(rotation=15)\n",
        "plt.ylim(0, 1)\n",
        "plt.legend()\n",
        "plt.grid(True, linestyle='--', alpha=0.5)\n",
        "plt.tight_layout()\n",
        "plt.show()"
      ],
      "metadata": {
        "colab": {
          "base_uri": "https://localhost:8080/",
          "height": 578
        },
        "id": "9dxhgZBC5hju",
        "outputId": "e22969a8-1f33-48f4-d841-3d960fe472fe"
      },
      "execution_count": 22,
      "outputs": [
        {
          "output_type": "stream",
          "name": "stderr",
          "text": [
            "<ipython-input-22-26ae2ee41ffe>:12: UserWarning: Glyph 128202 (\\N{BAR CHART}) missing from font(s) DejaVu Sans.\n",
            "  plt.tight_layout()\n",
            "/usr/local/lib/python3.11/dist-packages/IPython/core/pylabtools.py:151: UserWarning: Glyph 128202 (\\N{BAR CHART}) missing from font(s) DejaVu Sans.\n",
            "  fig.canvas.print_figure(bytes_io, **kw)\n"
          ]
        },
        {
          "output_type": "display_data",
          "data": {
            "text/plain": [
              "<Figure size 1000x500 with 1 Axes>"
            ],
            "image/png": "[encoded data removed]"
          },
          "metadata": {}
        }
      ]
    }
  ]
}