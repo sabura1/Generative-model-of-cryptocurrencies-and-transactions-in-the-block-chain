{
  "metadata": {
    "kernelspec": {
      "name": "python3",
      "display_name": "Python 3",
      "language": "python"
    },
    "language_info": {
      "name": "python",
      "version": "3.11.11",
      "mimetype": "text/x-python",
      "codemirror_mode": {
        "name": "ipython",
        "version": 3
      },
      "pygments_lexer": "ipython3",
      "nbconvert_exporter": "python",
      "file_extension": ".py"
    },
    "accelerator": "GPU",
    "colab": {
      "gpuType": "T4",
      "provenance": []
    },
    "kaggle": {
      "accelerator": "nvidiaTeslaT4",
      "dataSources": [],
      "dockerImageVersionId": 31012,
      "isInternetEnabled": true,
      "language": "python",
      "sourceType": "notebook",
      "isGpuEnabled": true
    }
  },
  "nbformat_minor": 0,
  "nbformat": 4,
  "cells": [
    {
      "cell_type": "markdown",
      "source": [
        "# Задача о Маятнике\n",
        "\n",
        "Наша цель обучить несколько моделей для этой [задачи](https://gymnasium.farama.org/environments/classic_control/pendulum/):"
      ],
      "metadata": {
        "id": "p10Y890iw8LQ"
      }
    },
    {
      "cell_type": "markdown",
      "source": [
        "## Подготовка данных"
      ],
      "metadata": {
        "id": "YdSrMos06uD_"
      }
    },
    {
      "cell_type": "code",
      "source": [
        "import gymnasium as gym"
      ],
      "metadata": {
        "id": "04oKkVVYA9Ww",
        "trusted": true,
        "execution": {
          "iopub.status.busy": "2025-05-01T20:41:57.718704Z",
          "iopub.execute_input": "2025-05-01T20:41:57.718927Z",
          "iopub.status.idle": "2025-05-01T20:41:58.578964Z",
          "shell.execute_reply.started": "2025-05-01T20:41:57.718900Z",
          "shell.execute_reply": "2025-05-01T20:41:58.578275Z"
        }
      },
      "outputs": [],
      "execution_count": 1
    },
    {
      "cell_type": "code",
      "source": [
        "env = gym.make(\"Pendulum-v1\", render_mode=\"rgb_array\", g=9.81)"
      ],
      "metadata": {
        "id": "C1_pVLF_BFtG",
        "trusted": true,
        "execution": {
          "iopub.status.busy": "2025-05-01T20:41:58.580338Z",
          "iopub.execute_input": "2025-05-01T20:41:58.580579Z",
          "iopub.status.idle": "2025-05-01T20:41:58.607993Z",
          "shell.execute_reply.started": "2025-05-01T20:41:58.580561Z",
          "shell.execute_reply": "2025-05-01T20:41:58.607420Z"
        }
      },
      "outputs": [],
      "execution_count": 2
    },
    {
      "cell_type": "code",
      "source": [
        "env"
      ],
      "metadata": {
        "colab": {
          "base_uri": "https://localhost:8080/"
        },
        "id": "ZyIosueRBHJg",
        "outputId": "c72abdc7-69ca-47f3-8e05-1067aa818a39",
        "trusted": true,
        "execution": {
          "iopub.status.busy": "2025-05-01T20:41:58.608621Z",
          "iopub.execute_input": "2025-05-01T20:41:58.608889Z",
          "iopub.status.idle": "2025-05-01T20:41:58.614249Z",
          "shell.execute_reply.started": "2025-05-01T20:41:58.608861Z",
          "shell.execute_reply": "2025-05-01T20:41:58.613518Z"
        }
      },
      "outputs": [
        {
          "output_type": "execute_result",
          "data": {
            "text/plain": [
              "<TimeLimit<OrderEnforcing<PassiveEnvChecker<PendulumEnv<Pendulum-v1>>>>>"
            ]
          },
          "metadata": {},
          "execution_count": 3
        }
      ],
      "execution_count": 3
    },
    {
      "cell_type": "code",
      "source": [
        "env.reset(seed=123, options={\"low\": -0.7, \"high\": 0.5})"
      ],
      "metadata": {
        "colab": {
          "base_uri": "https://localhost:8080/"
        },
        "id": "0rRsL36zBH42",
        "outputId": "08f145c0-d025-450f-c821-706a478ab35f",
        "trusted": true,
        "execution": {
          "iopub.status.busy": "2025-05-01T20:41:58.615060Z",
          "iopub.execute_input": "2025-05-01T20:41:58.615301Z",
          "iopub.status.idle": "2025-05-01T20:41:58.626850Z",
          "shell.execute_reply.started": "2025-05-01T20:41:58.615274Z",
          "shell.execute_reply": "2025-05-01T20:41:58.626186Z"
        }
      },
      "outputs": [
        {
          "output_type": "execute_result",
          "data": {
            "text/plain": [
              "(array([ 0.4123625 ,  0.91101986, -0.89235795], dtype=float32), {})"
            ]
          },
          "metadata": {},
          "execution_count": 4
        }
      ],
      "execution_count": 4
    },
    {
      "cell_type": "code",
      "source": [
        "!pip install stable_baselines3"
      ],
      "metadata": {
        "colab": {
          "base_uri": "https://localhost:8080/"
        },
        "id": "DOXnNWBZE9rR",
        "outputId": "7743097b-fd40-4546-e945-fb7024714199",
        "trusted": true,
        "execution": {
          "iopub.status.busy": "2025-05-01T20:41:58.627815Z",
          "iopub.execute_input": "2025-05-01T20:41:58.628296Z",
          "iopub.status.idle": "2025-05-01T20:43:17.799737Z",
          "shell.execute_reply.started": "2025-05-01T20:41:58.628271Z",
          "shell.execute_reply": "2025-05-01T20:43:17.799040Z"
        }
      },
      "outputs": [
        {
          "output_type": "stream",
          "name": "stdout",
          "text": [
            "Collecting stable_baselines3\n",
            "  Downloading stable_baselines3-2.6.0-py3-none-any.whl.metadata (4.8 kB)\n",
            "Requirement already satisfied: gymnasium<1.2.0,>=0.29.1 in /usr/local/lib/python3.11/dist-packages (from stable_baselines3) (1.1.1)\n",
            "Requirement already satisfied: numpy<3.0,>=1.20 in /usr/local/lib/python3.11/dist-packages (from stable_baselines3) (2.0.2)\n",
            "Requirement already satisfied: torch<3.0,>=2.3 in /usr/local/lib/python3.11/dist-packages (from stable_baselines3) (2.6.0+cu124)\n",
            "Requirement already satisfied: cloudpickle in /usr/local/lib/python3.11/dist-packages (from stable_baselines3) (3.1.1)\n",
            "Requirement already satisfied: pandas in /usr/local/lib/python3.11/dist-packages (from stable_baselines3) (2.2.2)\n",
            "Requirement already satisfied: matplotlib in /usr/local/lib/python3.11/dist-packages (from stable_baselines3) (3.10.0)\n",
            "Requirement already satisfied: typing-extensions>=4.3.0 in /usr/local/lib/python3.11/dist-packages (from gymnasium<1.2.0,>=0.29.1->stable_baselines3) (4.13.2)\n",
            "Requirement already satisfied: farama-notifications>=0.0.1 in /usr/local/lib/python3.11/dist-packages (from gymnasium<1.2.0,>=0.29.1->stable_baselines3) (0.0.4)\n",
            "Requirement already satisfied: filelock in /usr/local/lib/python3.11/dist-packages (from torch<3.0,>=2.3->stable_baselines3) (3.18.0)\n",
            "Requirement already satisfied: networkx in /usr/local/lib/python3.11/dist-packages (from torch<3.0,>=2.3->stable_baselines3) (3.4.2)\n",
            "Requirement already satisfied: jinja2 in /usr/local/lib/python3.11/dist-packages (from torch<3.0,>=2.3->stable_baselines3) (3.1.6)\n",
            "Requirement already satisfied: fsspec in /usr/local/lib/python3.11/dist-packages (from torch<3.0,>=2.3->stable_baselines3) (2025.3.2)\n",
            "Collecting nvidia-cuda-nvrtc-cu12==12.4.127 (from torch<3.0,>=2.3->stable_baselines3)\n",
            "  Downloading nvidia_cuda_nvrtc_cu12-12.4.127-py3-none-manylinux2014_x86_64.whl.metadata (1.5 kB)\n",
            "Collecting nvidia-cuda-runtime-cu12==12.4.127 (from torch<3.0,>=2.3->stable_baselines3)\n",
            "  Downloading nvidia_cuda_runtime_cu12-12.4.127-py3-none-manylinux2014_x86_64.whl.metadata (1.5 kB)\n",
            "Collecting nvidia-cuda-cupti-cu12==12.4.127 (from torch<3.0,>=2.3->stable_baselines3)\n",
            "  Downloading nvidia_cuda_cupti_cu12-12.4.127-py3-none-manylinux2014_x86_64.whl.metadata (1.6 kB)\n",
            "Collecting nvidia-cudnn-cu12==9.1.0.70 (from torch<3.0,>=2.3->stable_baselines3)\n",
            "  Downloading nvidia_cudnn_cu12-9.1.0.70-py3-none-manylinux2014_x86_64.whl.metadata (1.6 kB)\n",
            "Collecting nvidia-cublas-cu12==12.4.5.8 (from torch<3.0,>=2.3->stable_baselines3)\n",
            "  Downloading nvidia_cublas_cu12-12.4.5.8-py3-none-manylinux2014_x86_64.whl.metadata (1.5 kB)\n",
            "Collecting nvidia-cufft-cu12==11.2.1.3 (from torch<3.0,>=2.3->stable_baselines3)\n",
            "  Downloading nvidia_cufft_cu12-11.2.1.3-py3-none-manylinux2014_x86_64.whl.metadata (1.5 kB)\n",
            "Collecting nvidia-curand-cu12==10.3.5.147 (from torch<3.0,>=2.3->stable_baselines3)\n",
            "  Downloading nvidia_curand_cu12-10.3.5.147-py3-none-manylinux2014_x86_64.whl.metadata (1.5 kB)\n",
            "Collecting nvidia-cusolver-cu12==11.6.1.9 (from torch<3.0,>=2.3->stable_baselines3)\n",
            "  Downloading nvidia_cusolver_cu12-11.6.1.9-py3-none-manylinux2014_x86_64.whl.metadata (1.6 kB)\n",
            "Collecting nvidia-cusparse-cu12==12.3.1.170 (from torch<3.0,>=2.3->stable_baselines3)\n",
            "  Downloading nvidia_cusparse_cu12-12.3.1.170-py3-none-manylinux2014_x86_64.whl.metadata (1.6 kB)\n",
            "Requirement already satisfied: nvidia-cusparselt-cu12==0.6.2 in /usr/local/lib/python3.11/dist-packages (from torch<3.0,>=2.3->stable_baselines3) (0.6.2)\n",
            "Requirement already satisfied: nvidia-nccl-cu12==2.21.5 in /usr/local/lib/python3.11/dist-packages (from torch<3.0,>=2.3->stable_baselines3) (2.21.5)\n",
            "Requirement already satisfied: nvidia-nvtx-cu12==12.4.127 in /usr/local/lib/python3.11/dist-packages (from torch<3.0,>=2.3->stable_baselines3) (12.4.127)\n",
            "Collecting nvidia-nvjitlink-cu12==12.4.127 (from torch<3.0,>=2.3->stable_baselines3)\n",
            "  Downloading nvidia_nvjitlink_cu12-12.4.127-py3-none-manylinux2014_x86_64.whl.metadata (1.5 kB)\n",
            "Requirement already satisfied: triton==3.2.0 in /usr/local/lib/python3.11/dist-packages (from torch<3.0,>=2.3->stable_baselines3) (3.2.0)\n",
            "Requirement already satisfied: sympy==1.13.1 in /usr/local/lib/python3.11/dist-packages (from torch<3.0,>=2.3->stable_baselines3) (1.13.1)\n",
            "Requirement already satisfied: mpmath<1.4,>=1.1.0 in /usr/local/lib/python3.11/dist-packages (from sympy==1.13.1->torch<3.0,>=2.3->stable_baselines3) (1.3.0)\n",
            "Requirement already satisfied: contourpy>=1.0.1 in /usr/local/lib/python3.11/dist-packages (from matplotlib->stable_baselines3) (1.3.2)\n",
            "Requirement already satisfied: cycler>=0.10 in /usr/local/lib/python3.11/dist-packages (from matplotlib->stable_baselines3) (0.12.1)\n",
            "Requirement already satisfied: fonttools>=4.22.0 in /usr/local/lib/python3.11/dist-packages (from matplotlib->stable_baselines3) (4.57.0)\n",
            "Requirement already satisfied: kiwisolver>=1.3.1 in /usr/local/lib/python3.11/dist-packages (from matplotlib->stable_baselines3) (1.4.8)\n",
            "Requirement already satisfied: packaging>=20.0 in /usr/local/lib/python3.11/dist-packages (from matplotlib->stable_baselines3) (24.2)\n",
            "Requirement already satisfied: pillow>=8 in /usr/local/lib/python3.11/dist-packages (from matplotlib->stable_baselines3) (11.2.1)\n",
            "Requirement already satisfied: pyparsing>=2.3.1 in /usr/local/lib/python3.11/dist-packages (from matplotlib->stable_baselines3) (3.2.3)\n",
            "Requirement already satisfied: python-dateutil>=2.7 in /usr/local/lib/python3.11/dist-packages (from matplotlib->stable_baselines3) (2.9.0.post0)\n",
            "Requirement already satisfied: pytz>=2020.1 in /usr/local/lib/python3.11/dist-packages (from pandas->stable_baselines3) (2025.2)\n",
            "Requirement already satisfied: tzdata>=2022.7 in /usr/local/lib/python3.11/dist-packages (from pandas->stable_baselines3) (2025.2)\n",
            "Requirement already satisfied: six>=1.5 in /usr/local/lib/python3.11/dist-packages (from python-dateutil>=2.7->matplotlib->stable_baselines3) (1.17.0)\n",
            "Requirement already satisfied: MarkupSafe>=2.0 in /usr/local/lib/python3.11/dist-packages (from jinja2->torch<3.0,>=2.3->stable_baselines3) (3.0.2)\n",
            "Downloading stable_baselines3-2.6.0-py3-none-any.whl (184 kB)\n",
            "\u001b[2K   \u001b[90m━━━━━━━━━━━━━━━━━━━━━━━━━━━━━━━━━━━━━━━━\u001b[0m \u001b[32m184.5/184.5 kB\u001b[0m \u001b[31m4.3 MB/s\u001b[0m eta \u001b[36m0:00:00\u001b[0m\n",
            "\u001b[?25hDownloading nvidia_cublas_cu12-12.4.5.8-py3-none-manylinux2014_x86_64.whl (363.4 MB)\n",
            "\u001b[2K   \u001b[90m━━━━━━━━━━━━━━━━━━━━━━━━━━━━━━━━━━━━━━━━\u001b[0m \u001b[32m363.4/363.4 MB\u001b[0m \u001b[31m4.4 MB/s\u001b[0m eta \u001b[36m0:00:00\u001b[0m\n",
            "\u001b[?25hDownloading nvidia_cuda_cupti_cu12-12.4.127-py3-none-manylinux2014_x86_64.whl (13.8 MB)\n",
            "\u001b[2K   \u001b[90m━━━━━━━━━━━━━━━━━━━━━━━━━━━━━━━━━━━━━━━━\u001b[0m \u001b[32m13.8/13.8 MB\u001b[0m \u001b[31m31.8 MB/s\u001b[0m eta \u001b[36m0:00:00\u001b[0m\n",
            "\u001b[?25hDownloading nvidia_cuda_nvrtc_cu12-12.4.127-py3-none-manylinux2014_x86_64.whl (24.6 MB)\n",
            "\u001b[2K   \u001b[90m━━━━━━━━━━━━━━━━━━━━━━━━━━━━━━━━━━━━━━━━\u001b[0m \u001b[32m24.6/24.6 MB\u001b[0m \u001b[31m24.8 MB/s\u001b[0m eta \u001b[36m0:00:00\u001b[0m\n",
            "\u001b[?25hDownloading nvidia_cuda_runtime_cu12-12.4.127-py3-none-manylinux2014_x86_64.whl (883 kB)\n",
            "\u001b[2K   \u001b[90m━━━━━━━━━━━━━━━━━━━━━━━━━━━━━━━━━━━━━━━━\u001b[0m \u001b[32m883.7/883.7 kB\u001b[0m \u001b[31m24.9 MB/s\u001b[0m eta \u001b[36m0:00:00\u001b[0m\n",
            "\u001b[?25hDownloading nvidia_cudnn_cu12-9.1.0.70-py3-none-manylinux2014_x86_64.whl (664.8 MB)\n",
            "\u001b[2K   \u001b[90m━━━━━━━━━━━━━━━━━━━━━━━━━━━━━━━━━━━━━━━\u001b[0m \u001b[32m664.8/664.8 MB\u001b[0m \u001b[31m850.0 kB/s\u001b[0m eta \u001b[36m0:00:00\u001b[0m\n",
            "\u001b[?25hDownloading nvidia_cufft_cu12-11.2.1.3-py3-none-manylinux2014_x86_64.whl (211.5 MB)\n",
            "\u001b[2K   \u001b[90m━━━━━━━━━━━━━━━━━━━━━━━━━━━━━━━━━━━━━━━━\u001b[0m \u001b[32m211.5/211.5 MB\u001b[0m \u001b[31m5.5 MB/s\u001b[0m eta \u001b[36m0:00:00\u001b[0m\n",
            "\u001b[?25hDownloading nvidia_curand_cu12-10.3.5.147-py3-none-manylinux2014_x86_64.whl (56.3 MB)\n",
            "\u001b[2K   \u001b[90m━━━━━━━━━━━━━━━━━━━━━━━━━━━━━━━━━━━━━━━━\u001b[0m \u001b[32m56.3/56.3 MB\u001b[0m \u001b[31m12.4 MB/s\u001b[0m eta \u001b[36m0:00:00\u001b[0m\n",
            "\u001b[?25hDownloading nvidia_cusolver_cu12-11.6.1.9-py3-none-manylinux2014_x86_64.whl (127.9 MB)\n",
            "\u001b[2K   \u001b[90m━━━━━━━━━━━━━━━━━━━━━━━━━━━━━━━━━━━━━━━━\u001b[0m \u001b[32m127.9/127.9 MB\u001b[0m \u001b[31m8.0 MB/s\u001b[0m eta \u001b[36m0:00:00\u001b[0m\n",
            "\u001b[?25hDownloading nvidia_cusparse_cu12-12.3.1.170-py3-none-manylinux2014_x86_64.whl (207.5 MB)\n",
            "\u001b[2K   \u001b[90m━━━━━━━━━━━━━━━━━━━━━━━━━━━━━━━━━━━━━━━━\u001b[0m \u001b[32m207.5/207.5 MB\u001b[0m \u001b[31m5.5 MB/s\u001b[0m eta \u001b[36m0:00:00\u001b[0m\n",
            "\u001b[?25hDownloading nvidia_nvjitlink_cu12-12.4.127-py3-none-manylinux2014_x86_64.whl (21.1 MB)\n",
            "\u001b[2K   \u001b[90m━━━━━━━━━━━━━━━━━━━━━━━━━━━━━━━━━━━━━━━━\u001b[0m \u001b[32m21.1/21.1 MB\u001b[0m \u001b[31m73.7 MB/s\u001b[0m eta \u001b[36m0:00:00\u001b[0m\n",
            "\u001b[?25hInstalling collected packages: nvidia-nvjitlink-cu12, nvidia-curand-cu12, nvidia-cufft-cu12, nvidia-cuda-runtime-cu12, nvidia-cuda-nvrtc-cu12, nvidia-cuda-cupti-cu12, nvidia-cublas-cu12, nvidia-cusparse-cu12, nvidia-cudnn-cu12, nvidia-cusolver-cu12, stable_baselines3\n",
            "  Attempting uninstall: nvidia-nvjitlink-cu12\n",
            "    Found existing installation: nvidia-nvjitlink-cu12 12.5.82\n",
            "    Uninstalling nvidia-nvjitlink-cu12-12.5.82:\n",
            "      Successfully uninstalled nvidia-nvjitlink-cu12-12.5.82\n",
            "  Attempting uninstall: nvidia-curand-cu12\n",
            "    Found existing installation: nvidia-curand-cu12 10.3.6.82\n",
            "    Uninstalling nvidia-curand-cu12-10.3.6.82:\n",
            "      Successfully uninstalled nvidia-curand-cu12-10.3.6.82\n",
            "  Attempting uninstall: nvidia-cufft-cu12\n",
            "    Found existing installation: nvidia-cufft-cu12 11.2.3.61\n",
            "    Uninstalling nvidia-cufft-cu12-11.2.3.61:\n",
            "      Successfully uninstalled nvidia-cufft-cu12-11.2.3.61\n",
            "  Attempting uninstall: nvidia-cuda-runtime-cu12\n",
            "    Found existing installation: nvidia-cuda-runtime-cu12 12.5.82\n",
            "    Uninstalling nvidia-cuda-runtime-cu12-12.5.82:\n",
            "      Successfully uninstalled nvidia-cuda-runtime-cu12-12.5.82\n",
            "  Attempting uninstall: nvidia-cuda-nvrtc-cu12\n",
            "    Found existing installation: nvidia-cuda-nvrtc-cu12 12.5.82\n",
            "    Uninstalling nvidia-cuda-nvrtc-cu12-12.5.82:\n",
            "      Successfully uninstalled nvidia-cuda-nvrtc-cu12-12.5.82\n",
            "  Attempting uninstall: nvidia-cuda-cupti-cu12\n",
            "    Found existing installation: nvidia-cuda-cupti-cu12 12.5.82\n",
            "    Uninstalling nvidia-cuda-cupti-cu12-12.5.82:\n",
            "      Successfully uninstalled nvidia-cuda-cupti-cu12-12.5.82\n",
            "  Attempting uninstall: nvidia-cublas-cu12\n",
            "    Found existing installation: nvidia-cublas-cu12 12.5.3.2\n",
            "    Uninstalling nvidia-cublas-cu12-12.5.3.2:\n",
            "      Successfully uninstalled nvidia-cublas-cu12-12.5.3.2\n",
            "  Attempting uninstall: nvidia-cusparse-cu12\n",
            "    Found existing installation: nvidia-cusparse-cu12 12.5.1.3\n",
            "    Uninstalling nvidia-cusparse-cu12-12.5.1.3:\n",
            "      Successfully uninstalled nvidia-cusparse-cu12-12.5.1.3\n",
            "  Attempting uninstall: nvidia-cudnn-cu12\n",
            "    Found existing installation: nvidia-cudnn-cu12 9.3.0.75\n",
            "    Uninstalling nvidia-cudnn-cu12-9.3.0.75:\n",
            "      Successfully uninstalled nvidia-cudnn-cu12-9.3.0.75\n",
            "  Attempting uninstall: nvidia-cusolver-cu12\n",
            "    Found existing installation: nvidia-cusolver-cu12 11.6.3.83\n",
            "    Uninstalling nvidia-cusolver-cu12-11.6.3.83:\n",
            "      Successfully uninstalled nvidia-cusolver-cu12-11.6.3.83\n",
            "Successfully installed nvidia-cublas-cu12-12.4.5.8 nvidia-cuda-cupti-cu12-12.4.127 nvidia-cuda-nvrtc-cu12-12.4.127 nvidia-cuda-runtime-cu12-12.4.127 nvidia-cudnn-cu12-9.1.0.70 nvidia-cufft-cu12-11.2.1.3 nvidia-curand-cu12-10.3.5.147 nvidia-cusolver-cu12-11.6.1.9 nvidia-cusparse-cu12-12.3.1.170 nvidia-nvjitlink-cu12-12.4.127 stable_baselines3-2.6.0\n"
          ]
        }
      ],
      "execution_count": 5
    },
    {
      "cell_type": "markdown",
      "source": [
        "## Генеративная модель (предсказываю положение через н секунд)"
      ],
      "metadata": {
        "id": "lUOVVkPkzRvW"
      }
    },
    {
      "cell_type": "markdown",
      "source": [
        "### Обучение"
      ],
      "metadata": {
        "id": "qDvkFy7ozYpV"
      }
    },
    {
      "cell_type": "code",
      "source": [
        "import gymnasium as gym\n",
        "import torch\n",
        "import torch.nn as nn\n",
        "import torch.optim as optim\n",
        "import numpy as np\n",
        "import matplotlib.pyplot as plt\n",
        "from sklearn.preprocessing import StandardScaler\n",
        "from sklearn.metrics import mean_squared_error\n",
        "from torch.utils.data import TensorDataset, DataLoader\n",
        "\n",
        "# ⚙️ Настройки\n",
        "ENV_NAME = \"Pendulum-v1\"\n",
        "N_FUTURE_STEPS = 5\n",
        "LATENT_SIZE = 24\n",
        "EPOCHS_AUTOENCODER = 50\n",
        "EPOCHS_SECONDARY = 100\n",
        "BATCH_SIZE = 32\n",
        "LR = 1e-3\n",
        "DEVICE = torch.device(\"cuda\" if torch.cuda.is_available() else \"cpu\")\n",
        "print(f\"📟 Устройство: {DEVICE}\")\n",
        "\n",
        "# 🎯 Среда\n",
        "env = gym.make(ENV_NAME)\n",
        "state_size = env.observation_space.shape[0]\n",
        "\n",
        "# 🧱 Autoencoder\n",
        "class Encoder(nn.Module):\n",
        "    def __init__(self, input_size, latent_size):\n",
        "        super().__init__()\n",
        "        self.model = nn.Sequential(\n",
        "            nn.Linear(input_size, 128),\n",
        "            nn.ReLU(),\n",
        "            nn.BatchNorm1d(128),\n",
        "            nn.Dropout(0.1),\n",
        "            nn.Linear(128, latent_size)\n",
        "        )\n",
        "\n",
        "    def forward(self, x):\n",
        "        return self.model(x)\n",
        "\n",
        "class Decoder(nn.Module):\n",
        "    def __init__(self, latent_size, output_size):\n",
        "        super().__init__()\n",
        "        self.model = nn.Sequential(\n",
        "            nn.Linear(latent_size, 128),\n",
        "            nn.ReLU(),\n",
        "            nn.BatchNorm1d(128),\n",
        "            nn.Dropout(0.1),\n",
        "            nn.Linear(128, output_size)\n",
        "        )\n",
        "\n",
        "    def forward(self, z):\n",
        "        return self.model(z)\n",
        "\n",
        "# 🧠 SecondaryNet\n",
        "class SecondaryNet(nn.Module):\n",
        "    def __init__(self, latent_size, output_size):\n",
        "        super().__init__()\n",
        "        self.model = nn.Sequential(\n",
        "            nn.Linear(latent_size, 128),\n",
        "            nn.ReLU(),\n",
        "            nn.Dropout(0.1),\n",
        "            nn.Linear(128, 128),\n",
        "            nn.ReLU(),\n",
        "            nn.Dropout(0.1),\n",
        "            nn.Linear(128, 64),\n",
        "            nn.ReLU(),\n",
        "            nn.Linear(64, output_size)\n",
        "        )\n",
        "\n",
        "    def forward(self, x):\n",
        "        return self.model(x)\n",
        "\n",
        "# 📦 Сбор данных\n",
        "print(\"📦 Сбор данных...\")\n",
        "all_states = []\n",
        "num_episodes = 200\n",
        "for _ in range(num_episodes):\n",
        "    state, _ = env.reset()\n",
        "    done = False\n",
        "    while not done:\n",
        "        all_states.append(state)\n",
        "        action = env.action_space.sample()\n",
        "        state, _, terminated, truncated, _ = env.step(action)\n",
        "        done = terminated or truncated\n",
        "env.close()\n",
        "print(f\"✅ Получено {len(all_states)} состояний\")\n",
        "\n",
        "# ⚖️ Нормализация входов\n",
        "scaler = StandardScaler()\n",
        "states_scaled = scaler.fit_transform(all_states)\n",
        "states_tensor = torch.tensor(states_scaled, dtype=torch.float32).to(DEVICE)\n",
        "\n",
        "# 🔧 Обучение AutoEncoder\n",
        "encoder = Encoder(state_size, LATENT_SIZE).to(DEVICE)\n",
        "decoder = Decoder(LATENT_SIZE, state_size).to(DEVICE)\n",
        "ae_optimizer = optim.Adam(\n",
        "    list(encoder.parameters()) + list(decoder.parameters()), lr=LR, weight_decay=1e-5\n",
        ")\n",
        "ae_criterion = nn.MSELoss()\n",
        "\n",
        "print(\"🧠 Обучение автоэнкодера...\")\n",
        "ae_losses = []\n",
        "\n",
        "ae_dataset = TensorDataset(states_tensor)\n",
        "ae_loader = DataLoader(ae_dataset, batch_size=BATCH_SIZE, shuffle=True)\n",
        "\n",
        "for epoch in range(EPOCHS_AUTOENCODER):\n",
        "    encoder.train()\n",
        "    decoder.train()\n",
        "    epoch_loss = 0\n",
        "    for (batch,) in ae_loader:\n",
        "        z = encoder(batch)\n",
        "        recon = decoder(z)\n",
        "        loss = ae_criterion(recon, batch)\n",
        "\n",
        "        ae_optimizer.zero_grad()\n",
        "        loss.backward()\n",
        "        ae_optimizer.step()\n",
        "\n",
        "        epoch_loss += loss.item()\n",
        "    avg_loss = epoch_loss / len(ae_loader)\n",
        "    ae_losses.append(avg_loss)\n",
        "    if epoch % 10 == 0:\n",
        "        print(f\"Эпоха {epoch}/{EPOCHS_AUTOENCODER}, Loss: {avg_loss:.4f}\")\n",
        "\n",
        "plt.plot(ae_losses)\n",
        "plt.title(\"Autoencoder Loss\")\n",
        "plt.xlabel(\"Epoch\")\n",
        "plt.ylabel(\"MSE\")\n",
        "plt.grid(True)\n",
        "plt.show()\n",
        "\n",
        "# 📦 Сбор пар: [latent_t] → state_{t+N}\n",
        "print(\"📦 Сбор данных для вторичной сети...\")\n",
        "X_latent, y_future = [], []\n",
        "env = gym.make(ENV_NAME)\n",
        "for _ in range(300):\n",
        "    state, _ = env.reset()\n",
        "    done = False\n",
        "    ep_states = []\n",
        "    while not done:\n",
        "        ep_states.append(state)\n",
        "        action = env.action_space.sample()\n",
        "        state, _, terminated, truncated, _ = env.step(action)\n",
        "        done = terminated or truncated\n",
        "    if len(ep_states) > N_FUTURE_STEPS:\n",
        "        for i in range(len(ep_states) - N_FUTURE_STEPS):\n",
        "            current = scaler.transform([ep_states[i]])\n",
        "            future = ep_states[i + N_FUTURE_STEPS]\n",
        "            with torch.no_grad():\n",
        "                encoder.eval()\n",
        "                latent = encoder(torch.tensor(current, dtype=torch.float32).to(DEVICE)).cpu().numpy()[0]\n",
        "            X_latent.append(latent)\n",
        "            y_future.append(future)\n",
        "env.close()\n",
        "print(f\"✅ Собрано {len(X_latent)} пар [latent → future_state]\")\n",
        "\n",
        "# ⚖️ Нормализация выходов\n",
        "scaler_y = StandardScaler()\n",
        "y_future_scaled = scaler_y.fit_transform(y_future)\n",
        "\n",
        "X_tensor = torch.tensor(X_latent, dtype=torch.float32).to(DEVICE)\n",
        "y_tensor = torch.tensor(y_future_scaled, dtype=torch.float32).to(DEVICE)\n",
        "\n",
        "# 🧠 Обучение SecondaryNet\n",
        "secondary_net = SecondaryNet(LATENT_SIZE, state_size).to(DEVICE)\n",
        "secondary_optimizer = optim.Adam(secondary_net.parameters(), lr=LR)\n",
        "secondary_criterion = nn.SmoothL1Loss()\n",
        "\n",
        "print(\"🧠 Обучение вторичной сети...\")\n",
        "secondary_losses = []\n",
        "\n",
        "secondary_dataset = TensorDataset(X_tensor, y_tensor)\n",
        "secondary_loader = DataLoader(secondary_dataset, batch_size=BATCH_SIZE, shuffle=True)\n",
        "\n",
        "for epoch in range(EPOCHS_SECONDARY):\n",
        "    secondary_net.train()\n",
        "    epoch_loss = 0\n",
        "    for batch_X, batch_y in secondary_loader:\n",
        "        pred = secondary_net(batch_X)\n",
        "        loss = secondary_criterion(pred, batch_y)\n",
        "\n",
        "        secondary_optimizer.zero_grad()\n",
        "        loss.backward()\n",
        "        secondary_optimizer.step()\n",
        "        epoch_loss += loss.item()\n",
        "\n",
        "    avg_loss = epoch_loss / len(secondary_loader)\n",
        "    secondary_losses.append(avg_loss)\n",
        "    if epoch % 10 == 0:\n",
        "        print(f\"Эпоха {epoch}/{EPOCHS_SECONDARY}, Loss: {avg_loss:.4f}\")\n",
        "\n",
        "plt.plot(secondary_losses)\n",
        "plt.title(\"Secondary Network Loss\")\n",
        "plt.xlabel(\"Epoch\")\n",
        "plt.ylabel(\"Smooth L1 Loss\")\n",
        "plt.grid(True)\n",
        "plt.show()\n",
        "\n",
        "# 📦 Сохраняем для сравнения\n",
        "X_tensor_latent = X_tensor\n",
        "y_tensor_latent = y_tensor\n",
        "scaler_y_latent = scaler_y\n",
        "\n",
        "with torch.no_grad():\n",
        "    secondary_net.eval()\n",
        "    preds_scaled_latent = secondary_net(X_tensor_latent).cpu().numpy()\n",
        "    preds_latent = scaler_y_latent.inverse_transform(preds_scaled_latent)\n",
        "    y_true_latent = scaler_y_latent.inverse_transform(y_tensor_latent.cpu().numpy())\n",
        "\n",
        "# 📊 Финальная оценка\n",
        "mse_total = mean_squared_error(y_true_latent, preds_latent)\n",
        "print(f\"\\n📉 MSE на обучающих данных (улучшенная латентная модель): {mse_total:.4f}\")\n",
        "\n",
        "components = ['cos(θ)', 'sin(θ)', 'θ̇']\n",
        "for i, comp in enumerate(components):\n",
        "    comp_mse = mean_squared_error(y_true_latent[:, i], preds_latent[:, i])\n",
        "    print(f\"  ▶️ MSE {comp}: {comp_mse:.4f}\")"
      ],
      "metadata": {
        "colab": {
          "base_uri": "https://localhost:8080/",
          "height": 1000
        },
        "id": "K3YMxQcBzWqE",
        "outputId": "40a84f8c-0b29-4e26-b3c8-9bd5d22ec03e",
        "trusted": true,
        "execution": {
          "iopub.status.busy": "2025-05-02T13:51:00.712665Z",
          "iopub.execute_input": "2025-05-02T13:51:00.712958Z",
          "iopub.status.idle": "2025-05-02T14:13:18.043664Z",
          "shell.execute_reply.started": "2025-05-02T13:51:00.712937Z",
          "shell.execute_reply": "2025-05-02T14:13:18.043079Z"
        }
      },
      "outputs": [
        {
          "output_type": "stream",
          "name": "stdout",
          "text": [
            "📟 Устройство: cuda\n",
            "📦 Сбор данных...\n",
            "✅ Получено 40000 состояний\n",
            "🧠 Обучение автоэнкодера...\n",
            "Эпоха 0/50, Loss: 0.0655\n",
            "Эпоха 10/50, Loss: 0.0416\n",
            "Эпоха 20/50, Loss: 0.0407\n",
            "Эпоха 30/50, Loss: 0.0390\n",
            "Эпоха 40/50, Loss: 0.0400\n"
          ]
        },
        {
          "output_type": "display_data",
          "data": {
            "text/plain": [
              "<Figure size 640x480 with 1 Axes>"
            ],
            "image/png": "[encoded data removed]"
          },
          "metadata": {}
        },
        {
          "output_type": "stream",
          "name": "stdout",
          "text": [
            "📦 Сбор данных для вторичной сети...\n",
            "✅ Собрано 58500 пар [latent → future_state]\n"
          ]
        },
        {
          "output_type": "stream",
          "name": "stderr",
          "text": [
            "<ipython-input-6-7e7f25869ab0>:163: UserWarning: Creating a tensor from a list of numpy.ndarrays is extremely slow. Please consider converting the list to a single numpy.ndarray with numpy.array() before converting to a tensor. (Triggered internally at /pytorch/torch/csrc/utils/tensor_new.cpp:254.)\n",
            "  X_tensor = torch.tensor(X_latent, dtype=torch.float32).to(DEVICE)\n"
          ]
        },
        {
          "output_type": "stream",
          "name": "stdout",
          "text": [
            "🧠 Обучение вторичной сети...\n",
            "Эпоха 0/100, Loss: 0.0158\n",
            "Эпоха 10/100, Loss: 0.0053\n",
            "Эпоха 20/100, Loss: 0.0049\n",
            "Эпоха 30/100, Loss: 0.0047\n",
            "Эпоха 40/100, Loss: 0.0046\n",
            "Эпоха 50/100, Loss: 0.0045\n",
            "Эпоха 60/100, Loss: 0.0045\n",
            "Эпоха 70/100, Loss: 0.0044\n",
            "Эпоха 80/100, Loss: 0.0044\n",
            "Эпоха 90/100, Loss: 0.0043\n"
          ]
        },
        {
          "output_type": "display_data",
          "data": {
            "text/plain": [
              "<Figure size 640x480 with 1 Axes>"
            ],
            "image/png": "[encoded data removed]"
          },
          "metadata": {}
        },
        {
          "output_type": "stream",
          "name": "stdout",
          "text": [
            "\n",
            "📉 MSE на обучающих данных (улучшенная латентная модель): 0.0821\n",
            "  ▶️ MSE cos(θ): 0.0025\n",
            "  ▶️ MSE sin(θ): 0.0028\n",
            "  ▶️ MSE θ̇: 0.2410\n"
          ]
        }
      ],
      "execution_count": 6
    },
    {
      "cell_type": "markdown",
      "source": [
        "# Прямая модель\n"
      ],
      "metadata": {
        "id": "OzQp10k5mEtA"
      }
    },
    {
      "cell_type": "code",
      "source": [
        "import torch\n",
        "import torch.nn as nn\n",
        "import torch.optim as optim\n",
        "import numpy as np\n",
        "import gymnasium as gym\n",
        "from sklearn.preprocessing import StandardScaler\n",
        "from sklearn.metrics import mean_squared_error\n",
        "import matplotlib.pyplot as plt\n",
        "\n",
        "# ⚙️ Параметры\n",
        "ENV_NAME = \"Pendulum-v1\"\n",
        "N_FUTURE_STEPS = 5\n",
        "EPOCHS_DIRECT = 50\n",
        "BATCH_SIZE = 32\n",
        "LR = 1e-3\n",
        "DEVICE = torch.device(\"cuda\" if torch.cuda.is_available() else \"cpu\")\n",
        "print(f\"📟 Устройство: {DEVICE}\")\n",
        "\n",
        "# 🎯 Создаём среду\n",
        "env = gym.make(ENV_NAME)\n",
        "state_size = env.observation_space.shape[0]\n",
        "\n",
        "# 📦 Сбор данных: [state_t → state_{t+N}]\n",
        "print(\"📦 Сбор данных для прямой модели...\")\n",
        "X_states = []\n",
        "y_future_states = []\n",
        "\n",
        "for _ in range(300):\n",
        "    state, _ = env.reset()\n",
        "    done = False\n",
        "    ep_states = []\n",
        "\n",
        "    while not done:\n",
        "        ep_states.append(state)\n",
        "        action = env.action_space.sample()\n",
        "        state, _, terminated, truncated, _ = env.step(action)\n",
        "        done = terminated or truncated\n",
        "\n",
        "    if len(ep_states) > N_FUTURE_STEPS:\n",
        "        for i in range(len(ep_states) - N_FUTURE_STEPS):\n",
        "            X_states.append(ep_states[i])\n",
        "            y_future_states.append(ep_states[i + N_FUTURE_STEPS])\n",
        "\n",
        "env.close()\n",
        "#print(f\"✅ Собрано {len(X_states)} пар [state_t → state_{t+N}]\")\n",
        "\n",
        "# ⚖️ Нормализация входов и выходов\n",
        "scaler_X_direct = StandardScaler()\n",
        "scaler_y_direct = StandardScaler()\n",
        "\n",
        "X_scaled = scaler_X_direct.fit_transform(X_states)\n",
        "y_scaled = scaler_y_direct.fit_transform(y_future_states)\n",
        "\n",
        "X_tensor_direct = torch.tensor(X_scaled, dtype=torch.float32).to(DEVICE)\n",
        "y_tensor_direct = torch.tensor(y_scaled, dtype=torch.float32).to(DEVICE)\n",
        "\n",
        "# 🧠 Модель прямого предсказания\n",
        "class DirectModel(nn.Module):\n",
        "    def __init__(self, input_size, output_size):\n",
        "        super().__init__()\n",
        "        self.model = nn.Sequential(\n",
        "            nn.Linear(input_size, 64),\n",
        "            nn.ReLU(),\n",
        "            nn.Linear(64, 64),\n",
        "            nn.ReLU(),\n",
        "            nn.Linear(64, output_size)\n",
        "        )\n",
        "\n",
        "    def forward(self, x):\n",
        "        return self.model(x)\n",
        "\n",
        "model_direct = DirectModel(state_size, state_size).to(DEVICE)\n",
        "optimizer = optim.Adam(model_direct.parameters(), lr=LR)\n",
        "criterion = nn.SmoothL1Loss()\n",
        "\n",
        "# 🔧 Обучение\n",
        "print(\"🧠 Обучение прямой модели...\")\n",
        "losses = []\n",
        "for epoch in range(EPOCHS_DIRECT):\n",
        "    perm = torch.randperm(len(X_tensor_direct))\n",
        "    epoch_loss = 0\n",
        "    for i in range(0, len(X_tensor_direct), BATCH_SIZE):\n",
        "        idx = perm[i:i+BATCH_SIZE]\n",
        "        batch_X = X_tensor_direct[idx]\n",
        "        batch_y = y_tensor_direct[idx]\n",
        "\n",
        "        pred = model_direct(batch_X)\n",
        "        loss = criterion(pred, batch_y)\n",
        "\n",
        "        optimizer.zero_grad()\n",
        "        loss.backward()\n",
        "        optimizer.step()\n",
        "\n",
        "        epoch_loss += loss.item()\n",
        "\n",
        "    avg_loss = epoch_loss / (len(X_tensor_direct) // BATCH_SIZE)\n",
        "    losses.append(avg_loss)\n",
        "    if epoch % 10 == 0:\n",
        "        print(f\"Эпоха {epoch}/{EPOCHS_DIRECT}, Loss: {avg_loss:.4f}\")\n",
        "\n",
        "# 📈 График потерь\n",
        "plt.plot(losses)\n",
        "plt.title(\"Direct Model Loss\")\n",
        "plt.xlabel(\"Epoch\")\n",
        "plt.ylabel(\"Smooth L1 Loss\")\n",
        "plt.grid(True)\n",
        "plt.show()\n",
        "\n",
        "# 📦 Сохраняем всё для сравнения\n",
        "with torch.no_grad():\n",
        "    preds_scaled_direct = model_direct(X_tensor_direct).cpu().numpy()\n",
        "    preds_direct = scaler_y_direct.inverse_transform(preds_scaled_direct)\n",
        "    y_true_direct = scaler_y_direct.inverse_transform(y_tensor_direct.cpu().numpy())\n",
        "\n",
        "# 📊 Оценка\n",
        "mse_total = mean_squared_error(y_true_direct, preds_direct)\n",
        "print(f\"\\n📉 MSE на обучающих данных (прямая модель): {mse_total:.4f}\")\n",
        "\n",
        "components = ['cos(θ)', 'sin(θ)', 'θ̇']\n",
        "for i, comp in enumerate(components):\n",
        "    comp_mse = mean_squared_error(y_true_direct[:, i], preds_direct[:, i])\n",
        "    print(f\"  ▶️ MSE {comp}: {comp_mse:.4f}\")\n",
        "\n",
        "# 🔍 Пример предсказания\n",
        "idx = np.random.randint(0, len(X_tensor_direct))\n",
        "pred_real = preds_direct[idx]\n",
        "true_real = y_true_direct[idx]\n",
        "error = np.mean((pred_real - true_real) ** 2)\n",
        "\n",
        "print(\"\\n🎯 Пример предсказания (прямая модель):\")\n",
        "print(f\"Предсказано (через {N_FUTURE_STEPS} шагов): {pred_real}\")\n",
        "print(f\"Истинное значение: {true_real}\")\n",
        "print(f\"Средняя ошибка: {error:.4f}\")"
      ],
      "metadata": {
        "trusted": true,
        "execution": {
          "iopub.status.busy": "2025-05-02T12:41:20.281555Z",
          "iopub.execute_input": "2025-05-02T12:41:20.281841Z",
          "iopub.status.idle": "2025-05-02T12:49:16.829814Z",
          "shell.execute_reply.started": "2025-05-02T12:41:20.281819Z",
          "shell.execute_reply": "2025-05-02T12:49:16.829078Z"
        },
        "colab": {
          "base_uri": "https://localhost:8080/",
          "height": 793
        },
        "id": "omq179w_mEtA",
        "outputId": "e60cf281-99e9-42e0-f967-d7fdc7cbff5b"
      },
      "outputs": [
        {
          "output_type": "stream",
          "name": "stdout",
          "text": [
            "📟 Устройство: cuda\n",
            "📦 Сбор данных для прямой модели...\n",
            "🧠 Обучение прямой модели...\n",
            "Эпоха 0/50, Loss: 0.0136\n",
            "Эпоха 10/50, Loss: 0.0036\n",
            "Эпоха 20/50, Loss: 0.0036\n",
            "Эпоха 30/50, Loss: 0.0036\n",
            "Эпоха 40/50, Loss: 0.0036\n"
          ]
        },
        {
          "output_type": "display_data",
          "data": {
            "text/plain": [
              "<Figure size 640x480 with 1 Axes>"
            ],
            "image/png": "[encoded data removed]"
          },
          "metadata": {}
        },
        {
          "output_type": "stream",
          "name": "stdout",
          "text": [
            "\n",
            "📉 MSE на обучающих данных (прямая модель): 0.0474\n",
            "  ▶️ MSE cos(θ): 0.0019\n",
            "  ▶️ MSE sin(θ): 0.0023\n",
            "  ▶️ MSE θ̇: 0.1380\n",
            "\n",
            "🎯 Пример предсказания (прямая модель):\n",
            "Предсказано (через 5 шагов): [-0.7120502  -0.69183624  1.498422  ]\n",
            "Истинное значение: [-0.7623225  -0.64719737  1.2790444 ]\n",
            "Средняя ошибка: 0.0175\n"
          ]
        }
      ],
      "execution_count": 7
    },
    {
      "cell_type": "markdown",
      "source": [
        "### Метрики"
      ],
      "metadata": {
        "id": "9I6XXoYBofoh"
      }
    },
    {
      "cell_type": "code",
      "source": [
        "from sklearn.metrics import mean_squared_error\n",
        "\n",
        "components = ['cos(θ)', 'sin(θ)', 'θ̇']\n",
        "\n",
        "print(\"\\n🔍 Сравнение латентной и прямой модели по MSE:\")\n",
        "\n",
        "# Общая ошибка\n",
        "mse_latent = mean_squared_error(y_true_latent, preds_latent)\n",
        "mse_direct = mean_squared_error(y_true_direct, preds_direct)\n",
        "\n",
        "print(f\"\\n📦 Общая MSE:\")\n",
        "print(f\"  🔹 Латентная модель: {mse_latent:.6f}\")\n",
        "print(f\"  🔸 Прямая модель:   {mse_direct:.6f}\\n\")\n",
        "\n",
        "# По компонентам\n",
        "print(\"📦 MSE по компонентам:\")\n",
        "for i, comp in enumerate(components):\n",
        "    mse_l = mean_squared_error(y_true_latent[:, i], preds_latent[:, i])\n",
        "    mse_d = mean_squared_error(y_true_direct[:, i], preds_direct[:, i])\n",
        "    print(f\"  ▶️ {comp}:\")\n",
        "    print(f\"     🔹 Латентная модель: {mse_l:.6f}\")\n",
        "    print(f\"     🔸 Прямая модель:   {mse_d:.6f}\")"
      ],
      "metadata": {
        "trusted": true,
        "execution": {
          "iopub.status.busy": "2025-05-02T14:13:18.044843Z",
          "iopub.execute_input": "2025-05-02T14:13:18.045105Z",
          "iopub.status.idle": "2025-05-02T14:13:18.057914Z",
          "shell.execute_reply.started": "2025-05-02T14:13:18.045082Z",
          "shell.execute_reply": "2025-05-02T14:13:18.057404Z"
        },
        "colab": {
          "base_uri": "https://localhost:8080/"
        },
        "id": "S_JwC8rHmEtA",
        "outputId": "075ce2db-fc00-4af6-9bd2-8aed10f49801"
      },
      "outputs": [
        {
          "output_type": "stream",
          "name": "stdout",
          "text": [
            "\n",
            "🔍 Сравнение латентной и прямой модели по MSE:\n",
            "\n",
            "📦 Общая MSE:\n",
            "  🔹 Латентная модель: 0.082087\n",
            "  🔸 Прямая модель:   0.047422\n",
            "\n",
            "📦 MSE по компонентам:\n",
            "  ▶️ cos(θ):\n",
            "     🔹 Латентная модель: 0.002466\n",
            "     🔸 Прямая модель:   0.001913\n",
            "  ▶️ sin(θ):\n",
            "     🔹 Латентная модель: 0.002789\n",
            "     🔸 Прямая модель:   0.002318\n",
            "  ▶️ θ̇:\n",
            "     🔹 Латентная модель: 0.241011\n",
            "     🔸 Прямая модель:   0.138035\n"
          ]
        }
      ],
      "execution_count": 8
    }
  ]
}
