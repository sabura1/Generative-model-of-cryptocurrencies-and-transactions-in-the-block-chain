{
  "cells": [
    {
      "cell_type": "markdown",
      "metadata": {
        "id": "p10Y890iw8LQ"
      },
      "source": [
        "# Задача о Маятнике\n",
        "\n",
        "Наша цель обучить несколько моделей для этой [задачи](https://gymnasium.farama.org/environments/classic_control/pendulum/):"
      ]
    },
    {
      "cell_type": "markdown",
      "metadata": {
        "id": "YdSrMos06uD_"
      },
      "source": [
        "## Подготовка данных"
      ]
    },
    {
      "cell_type": "code",
      "execution_count": null,
      "metadata": {
        "id": "04oKkVVYA9Ww"
      },
      "outputs": [],
      "source": [
        "import gymnasium as gym"
      ]
    },
    {
      "cell_type": "code",
      "execution_count": null,
      "metadata": {
        "id": "C1_pVLF_BFtG"
      },
      "outputs": [],
      "source": [
        "env = gym.make(\"Pendulum-v1\", render_mode=\"rgb_array\", g=9.81)"
      ]
    },
    {
      "cell_type": "code",
      "execution_count": null,
      "metadata": {
        "colab": {
          "base_uri": "https://localhost:8080/"
        },
        "id": "ZyIosueRBHJg",
        "outputId": "25f1bdf2-dd95-44ac-fbd4-9c29ffe2a529"
      },
      "outputs": [
        {
          "output_type": "execute_result",
          "data": {
            "text/plain": [
              "<TimeLimit<OrderEnforcing<PassiveEnvChecker<PendulumEnv<Pendulum-v1>>>>>"
            ]
          },
          "metadata": {},
          "execution_count": 3
        }
      ],
      "source": [
        "env"
      ]
    },
    {
      "cell_type": "code",
      "execution_count": null,
      "metadata": {
        "colab": {
          "base_uri": "https://localhost:8080/"
        },
        "id": "0rRsL36zBH42",
        "outputId": "1cf570ec-bb54-433d-def8-f035cd044710"
      },
      "outputs": [
        {
          "output_type": "execute_result",
          "data": {
            "text/plain": [
              "(array([ 0.4123625 ,  0.91101986, -0.89235795], dtype=float32), {})"
            ]
          },
          "metadata": {},
          "execution_count": 4
        }
      ],
      "source": [
        "env.reset(seed=123, options={\"low\": -0.7, \"high\": 0.5})"
      ]
    },
    {
      "cell_type": "code",
      "execution_count": null,
      "metadata": {
        "colab": {
          "base_uri": "https://localhost:8080/"
        },
        "id": "DOXnNWBZE9rR",
        "outputId": "15d945b0-f8c4-4109-bbd9-fdc06b00b3ec"
      },
      "outputs": [
        {
          "output_type": "stream",
          "name": "stdout",
          "text": [
            "Collecting stable_baselines3\n",
            "  Downloading stable_baselines3-2.6.0-py3-none-any.whl.metadata (4.8 kB)\n",
            "Requirement already satisfied: gymnasium<1.2.0,>=0.29.1 in /usr/local/lib/python3.11/dist-packages (from stable_baselines3) (1.1.1)\n",
            "Requirement already satisfied: numpy<3.0,>=1.20 in /usr/local/lib/python3.11/dist-packages (from stable_baselines3) (2.0.2)\n",
            "Requirement already satisfied: torch<3.0,>=2.3 in /usr/local/lib/python3.11/dist-packages (from stable_baselines3) (2.6.0+cu124)\n",
            "Requirement already satisfied: cloudpickle in /usr/local/lib/python3.11/dist-packages (from stable_baselines3) (3.1.1)\n",
            "Requirement already satisfied: pandas in /usr/local/lib/python3.11/dist-packages (from stable_baselines3) (2.2.2)\n",
            "Requirement already satisfied: matplotlib in /usr/local/lib/python3.11/dist-packages (from stable_baselines3) (3.10.0)\n",
            "Requirement already satisfied: typing-extensions>=4.3.0 in /usr/local/lib/python3.11/dist-packages (from gymnasium<1.2.0,>=0.29.1->stable_baselines3) (4.13.2)\n",
            "Requirement already satisfied: farama-notifications>=0.0.1 in /usr/local/lib/python3.11/dist-packages (from gymnasium<1.2.0,>=0.29.1->stable_baselines3) (0.0.4)\n",
            "Requirement already satisfied: filelock in /usr/local/lib/python3.11/dist-packages (from torch<3.0,>=2.3->stable_baselines3) (3.18.0)\n",
            "Requirement already satisfied: networkx in /usr/local/lib/python3.11/dist-packages (from torch<3.0,>=2.3->stable_baselines3) (3.4.2)\n",
            "Requirement already satisfied: jinja2 in /usr/local/lib/python3.11/dist-packages (from torch<3.0,>=2.3->stable_baselines3) (3.1.6)\n",
            "Requirement already satisfied: fsspec in /usr/local/lib/python3.11/dist-packages (from torch<3.0,>=2.3->stable_baselines3) (2025.3.2)\n",
            "Collecting nvidia-cuda-nvrtc-cu12==12.4.127 (from torch<3.0,>=2.3->stable_baselines3)\n",
            "  Downloading nvidia_cuda_nvrtc_cu12-12.4.127-py3-none-manylinux2014_x86_64.whl.metadata (1.5 kB)\n",
            "Collecting nvidia-cuda-runtime-cu12==12.4.127 (from torch<3.0,>=2.3->stable_baselines3)\n",
            "  Downloading nvidia_cuda_runtime_cu12-12.4.127-py3-none-manylinux2014_x86_64.whl.metadata (1.5 kB)\n",
            "Collecting nvidia-cuda-cupti-cu12==12.4.127 (from torch<3.0,>=2.3->stable_baselines3)\n",
            "  Downloading nvidia_cuda_cupti_cu12-12.4.127-py3-none-manylinux2014_x86_64.whl.metadata (1.6 kB)\n",
            "Collecting nvidia-cudnn-cu12==9.1.0.70 (from torch<3.0,>=2.3->stable_baselines3)\n",
            "  Downloading nvidia_cudnn_cu12-9.1.0.70-py3-none-manylinux2014_x86_64.whl.metadata (1.6 kB)\n",
            "Collecting nvidia-cublas-cu12==12.4.5.8 (from torch<3.0,>=2.3->stable_baselines3)\n",
            "  Downloading nvidia_cublas_cu12-12.4.5.8-py3-none-manylinux2014_x86_64.whl.metadata (1.5 kB)\n",
            "Collecting nvidia-cufft-cu12==11.2.1.3 (from torch<3.0,>=2.3->stable_baselines3)\n",
            "  Downloading nvidia_cufft_cu12-11.2.1.3-py3-none-manylinux2014_x86_64.whl.metadata (1.5 kB)\n",
            "Collecting nvidia-curand-cu12==10.3.5.147 (from torch<3.0,>=2.3->stable_baselines3)\n",
            "  Downloading nvidia_curand_cu12-10.3.5.147-py3-none-manylinux2014_x86_64.whl.metadata (1.5 kB)\n",
            "Collecting nvidia-cusolver-cu12==11.6.1.9 (from torch<3.0,>=2.3->stable_baselines3)\n",
            "  Downloading nvidia_cusolver_cu12-11.6.1.9-py3-none-manylinux2014_x86_64.whl.metadata (1.6 kB)\n",
            "Collecting nvidia-cusparse-cu12==12.3.1.170 (from torch<3.0,>=2.3->stable_baselines3)\n",
            "  Downloading nvidia_cusparse_cu12-12.3.1.170-py3-none-manylinux2014_x86_64.whl.metadata (1.6 kB)\n",
            "Requirement already satisfied: nvidia-cusparselt-cu12==0.6.2 in /usr/local/lib/python3.11/dist-packages (from torch<3.0,>=2.3->stable_baselines3) (0.6.2)\n",
            "Requirement already satisfied: nvidia-nccl-cu12==2.21.5 in /usr/local/lib/python3.11/dist-packages (from torch<3.0,>=2.3->stable_baselines3) (2.21.5)\n",
            "Requirement already satisfied: nvidia-nvtx-cu12==12.4.127 in /usr/local/lib/python3.11/dist-packages (from torch<3.0,>=2.3->stable_baselines3) (12.4.127)\n",
            "Collecting nvidia-nvjitlink-cu12==12.4.127 (from torch<3.0,>=2.3->stable_baselines3)\n",
            "  Downloading nvidia_nvjitlink_cu12-12.4.127-py3-none-manylinux2014_x86_64.whl.metadata (1.5 kB)\n",
            "Requirement already satisfied: triton==3.2.0 in /usr/local/lib/python3.11/dist-packages (from torch<3.0,>=2.3->stable_baselines3) (3.2.0)\n",
            "Requirement already satisfied: sympy==1.13.1 in /usr/local/lib/python3.11/dist-packages (from torch<3.0,>=2.3->stable_baselines3) (1.13.1)\n",
            "Requirement already satisfied: mpmath<1.4,>=1.1.0 in /usr/local/lib/python3.11/dist-packages (from sympy==1.13.1->torch<3.0,>=2.3->stable_baselines3) (1.3.0)\n",
            "Requirement already satisfied: contourpy>=1.0.1 in /usr/local/lib/python3.11/dist-packages (from matplotlib->stable_baselines3) (1.3.2)\n",
            "Requirement already satisfied: cycler>=0.10 in /usr/local/lib/python3.11/dist-packages (from matplotlib->stable_baselines3) (0.12.1)\n",
            "Requirement already satisfied: fonttools>=4.22.0 in /usr/local/lib/python3.11/dist-packages (from matplotlib->stable_baselines3) (4.57.0)\n",
            "Requirement already satisfied: kiwisolver>=1.3.1 in /usr/local/lib/python3.11/dist-packages (from matplotlib->stable_baselines3) (1.4.8)\n",
            "Requirement already satisfied: packaging>=20.0 in /usr/local/lib/python3.11/dist-packages (from matplotlib->stable_baselines3) (24.2)\n",
            "Requirement already satisfied: pillow>=8 in /usr/local/lib/python3.11/dist-packages (from matplotlib->stable_baselines3) (11.2.1)\n",
            "Requirement already satisfied: pyparsing>=2.3.1 in /usr/local/lib/python3.11/dist-packages (from matplotlib->stable_baselines3) (3.2.3)\n",
            "Requirement already satisfied: python-dateutil>=2.7 in /usr/local/lib/python3.11/dist-packages (from matplotlib->stable_baselines3) (2.9.0.post0)\n",
            "Requirement already satisfied: pytz>=2020.1 in /usr/local/lib/python3.11/dist-packages (from pandas->stable_baselines3) (2025.2)\n",
            "Requirement already satisfied: tzdata>=2022.7 in /usr/local/lib/python3.11/dist-packages (from pandas->stable_baselines3) (2025.2)\n",
            "Requirement already satisfied: six>=1.5 in /usr/local/lib/python3.11/dist-packages (from python-dateutil>=2.7->matplotlib->stable_baselines3) (1.17.0)\n",
            "Requirement already satisfied: MarkupSafe>=2.0 in /usr/local/lib/python3.11/dist-packages (from jinja2->torch<3.0,>=2.3->stable_baselines3) (3.0.2)\n",
            "Downloading stable_baselines3-2.6.0-py3-none-any.whl (184 kB)\n",
            "\u001b[2K   \u001b[90m━━━━━━━━━━━━━━━━━━━━━━━━━━━━━━━━━━━━━━━━\u001b[0m \u001b[32m184.5/184.5 kB\u001b[0m \u001b[31m7.4 MB/s\u001b[0m eta \u001b[36m0:00:00\u001b[0m\n",
            "\u001b[?25hDownloading nvidia_cublas_cu12-12.4.5.8-py3-none-manylinux2014_x86_64.whl (363.4 MB)\n",
            "\u001b[2K   \u001b[90m━━━━━━━━━━━━━━━━━━━━━━━━━━━━━━━━━━━━━━━━\u001b[0m \u001b[32m363.4/363.4 MB\u001b[0m \u001b[31m4.0 MB/s\u001b[0m eta \u001b[36m0:00:00\u001b[0m\n",
            "\u001b[?25hDownloading nvidia_cuda_cupti_cu12-12.4.127-py3-none-manylinux2014_x86_64.whl (13.8 MB)\n",
            "\u001b[2K   \u001b[90m━━━━━━━━━━━━━━━━━━━━━━━━━━━━━━━━━━━━━━━━\u001b[0m \u001b[32m13.8/13.8 MB\u001b[0m \u001b[31m52.9 MB/s\u001b[0m eta \u001b[36m0:00:00\u001b[0m\n",
            "\u001b[?25hDownloading nvidia_cuda_nvrtc_cu12-12.4.127-py3-none-manylinux2014_x86_64.whl (24.6 MB)\n",
            "\u001b[2K   \u001b[90m━━━━━━━━━━━━━━━━━━━━━━━━━━━━━━━━━━━━━━━━\u001b[0m \u001b[32m24.6/24.6 MB\u001b[0m \u001b[31m30.5 MB/s\u001b[0m eta \u001b[36m0:00:00\u001b[0m\n",
            "\u001b[?25hDownloading nvidia_cuda_runtime_cu12-12.4.127-py3-none-manylinux2014_x86_64.whl (883 kB)\n",
            "\u001b[2K   \u001b[90m━━━━━━━━━━━━━━━━━━━━━━━━━━━━━━━━━━━━━━━━\u001b[0m \u001b[32m883.7/883.7 kB\u001b[0m \u001b[31m23.8 MB/s\u001b[0m eta \u001b[36m0:00:00\u001b[0m\n",
            "\u001b[?25hDownloading nvidia_cudnn_cu12-9.1.0.70-py3-none-manylinux2014_x86_64.whl (664.8 MB)\n",
            "\u001b[2K   \u001b[90m━━━━━━━━━━━━━━━━━━━━━━━━━━━━━━━━━━━━━━━━\u001b[0m \u001b[32m664.8/664.8 MB\u001b[0m \u001b[31m1.0 MB/s\u001b[0m eta \u001b[36m0:00:00\u001b[0m\n",
            "\u001b[?25hDownloading nvidia_cufft_cu12-11.2.1.3-py3-none-manylinux2014_x86_64.whl (211.5 MB)\n",
            "\u001b[2K   \u001b[90m━━━━━━━━━━━━━━━━━━━━━━━━━━━━━━━━━━━━━━━━\u001b[0m \u001b[32m211.5/211.5 MB\u001b[0m \u001b[31m5.5 MB/s\u001b[0m eta \u001b[36m0:00:00\u001b[0m\n",
            "\u001b[?25hDownloading nvidia_curand_cu12-10.3.5.147-py3-none-manylinux2014_x86_64.whl (56.3 MB)\n",
            "\u001b[2K   \u001b[90m━━━━━━━━━━━━━━━━━━━━━━━━━━━━━━━━━━━━━━━━\u001b[0m \u001b[32m56.3/56.3 MB\u001b[0m \u001b[31m13.1 MB/s\u001b[0m eta \u001b[36m0:00:00\u001b[0m\n",
            "\u001b[?25hDownloading nvidia_cusolver_cu12-11.6.1.9-py3-none-manylinux2014_x86_64.whl (127.9 MB)\n",
            "\u001b[2K   \u001b[90m━━━━━━━━━━━━━━━━━━━━━━━━━━━━━━━━━━━━━━━━\u001b[0m \u001b[32m127.9/127.9 MB\u001b[0m \u001b[31m7.5 MB/s\u001b[0m eta \u001b[36m0:00:00\u001b[0m\n",
            "\u001b[?25hDownloading nvidia_cusparse_cu12-12.3.1.170-py3-none-manylinux2014_x86_64.whl (207.5 MB)\n",
            "\u001b[2K   \u001b[90m━━━━━━━━━━━━━━━━━━━━━━━━━━━━━━━━━━━━━━━━\u001b[0m \u001b[32m207.5/207.5 MB\u001b[0m \u001b[31m6.4 MB/s\u001b[0m eta \u001b[36m0:00:00\u001b[0m\n",
            "\u001b[?25hDownloading nvidia_nvjitlink_cu12-12.4.127-py3-none-manylinux2014_x86_64.whl (21.1 MB)\n",
            "\u001b[2K   \u001b[90m━━━━━━━━━━━━━━━━━━━━━━━━━━━━━━━━━━━━━━━━\u001b[0m \u001b[32m21.1/21.1 MB\u001b[0m \u001b[31m107.8 MB/s\u001b[0m eta \u001b[36m0:00:00\u001b[0m\n",
            "\u001b[?25hInstalling collected packages: nvidia-nvjitlink-cu12, nvidia-curand-cu12, nvidia-cufft-cu12, nvidia-cuda-runtime-cu12, nvidia-cuda-nvrtc-cu12, nvidia-cuda-cupti-cu12, nvidia-cublas-cu12, nvidia-cusparse-cu12, nvidia-cudnn-cu12, nvidia-cusolver-cu12, stable_baselines3\n",
            "  Attempting uninstall: nvidia-nvjitlink-cu12\n",
            "    Found existing installation: nvidia-nvjitlink-cu12 12.5.82\n",
            "    Uninstalling nvidia-nvjitlink-cu12-12.5.82:\n",
            "      Successfully uninstalled nvidia-nvjitlink-cu12-12.5.82\n",
            "  Attempting uninstall: nvidia-curand-cu12\n",
            "    Found existing installation: nvidia-curand-cu12 10.3.6.82\n",
            "    Uninstalling nvidia-curand-cu12-10.3.6.82:\n",
            "      Successfully uninstalled nvidia-curand-cu12-10.3.6.82\n",
            "  Attempting uninstall: nvidia-cufft-cu12\n",
            "    Found existing installation: nvidia-cufft-cu12 11.2.3.61\n",
            "    Uninstalling nvidia-cufft-cu12-11.2.3.61:\n",
            "      Successfully uninstalled nvidia-cufft-cu12-11.2.3.61\n",
            "  Attempting uninstall: nvidia-cuda-runtime-cu12\n",
            "    Found existing installation: nvidia-cuda-runtime-cu12 12.5.82\n",
            "    Uninstalling nvidia-cuda-runtime-cu12-12.5.82:\n",
            "      Successfully uninstalled nvidia-cuda-runtime-cu12-12.5.82\n",
            "  Attempting uninstall: nvidia-cuda-nvrtc-cu12\n",
            "    Found existing installation: nvidia-cuda-nvrtc-cu12 12.5.82\n",
            "    Uninstalling nvidia-cuda-nvrtc-cu12-12.5.82:\n",
            "      Successfully uninstalled nvidia-cuda-nvrtc-cu12-12.5.82\n",
            "  Attempting uninstall: nvidia-cuda-cupti-cu12\n",
            "    Found existing installation: nvidia-cuda-cupti-cu12 12.5.82\n",
            "    Uninstalling nvidia-cuda-cupti-cu12-12.5.82:\n",
            "      Successfully uninstalled nvidia-cuda-cupti-cu12-12.5.82\n",
            "  Attempting uninstall: nvidia-cublas-cu12\n",
            "    Found existing installation: nvidia-cublas-cu12 12.5.3.2\n",
            "    Uninstalling nvidia-cublas-cu12-12.5.3.2:\n",
            "      Successfully uninstalled nvidia-cublas-cu12-12.5.3.2\n",
            "  Attempting uninstall: nvidia-cusparse-cu12\n",
            "    Found existing installation: nvidia-cusparse-cu12 12.5.1.3\n",
            "    Uninstalling nvidia-cusparse-cu12-12.5.1.3:\n",
            "      Successfully uninstalled nvidia-cusparse-cu12-12.5.1.3\n",
            "  Attempting uninstall: nvidia-cudnn-cu12\n",
            "    Found existing installation: nvidia-cudnn-cu12 9.3.0.75\n",
            "    Uninstalling nvidia-cudnn-cu12-9.3.0.75:\n",
            "      Successfully uninstalled nvidia-cudnn-cu12-9.3.0.75\n",
            "  Attempting uninstall: nvidia-cusolver-cu12\n",
            "    Found existing installation: nvidia-cusolver-cu12 11.6.3.83\n",
            "    Uninstalling nvidia-cusolver-cu12-11.6.3.83:\n",
            "      Successfully uninstalled nvidia-cusolver-cu12-11.6.3.83\n",
            "Successfully installed nvidia-cublas-cu12-12.4.5.8 nvidia-cuda-cupti-cu12-12.4.127 nvidia-cuda-nvrtc-cu12-12.4.127 nvidia-cuda-runtime-cu12-12.4.127 nvidia-cudnn-cu12-9.1.0.70 nvidia-cufft-cu12-11.2.1.3 nvidia-curand-cu12-10.3.5.147 nvidia-cusolver-cu12-11.6.1.9 nvidia-cusparse-cu12-12.3.1.170 nvidia-nvjitlink-cu12-12.4.127 stable_baselines3-2.6.0\n"
          ]
        }
      ],
      "source": [
        "!pip install stable_baselines3"
      ]
    },
    {
      "cell_type": "markdown",
      "source": [
        "## Генеративная модель (предсказываю положение через н секунд)"
      ],
      "metadata": {
        "id": "lUOVVkPkzRvW"
      }
    },
    {
      "cell_type": "markdown",
      "source": [
        "### Обучение"
      ],
      "metadata": {
        "id": "qDvkFy7ozYpV"
      }
    },
    {
      "cell_type": "code",
      "source": [
        "import gymnasium as gym\n",
        "import torch\n",
        "import torch.nn as nn\n",
        "import torch.optim as optim\n",
        "import numpy as np\n",
        "import matplotlib.pyplot as plt\n",
        "from sklearn.preprocessing import StandardScaler\n",
        "from sklearn.metrics import mean_squared_error\n",
        "\n",
        "# ⚙️ Настройки\n",
        "ENV_NAME = \"Pendulum-v1\"\n",
        "N_FUTURE_STEPS = 5\n",
        "LATENT_SIZE = 16\n",
        "EPOCHS_AUTOENCODER = 100\n",
        "EPOCHS_SECONDARY = 200\n",
        "BATCH_SIZE = 32\n",
        "LR = 1e-3\n",
        "DEVICE = torch.device(\"cuda\" if torch.cuda.is_available() else \"cpu\")\n",
        "print(f\"📟 Устройство: {DEVICE}\")\n",
        "\n",
        "# 🎯 Создаем среду\n",
        "env = gym.make(ENV_NAME)\n",
        "state_size = env.observation_space.shape[0]\n",
        "\n",
        "# 🧱 Autoencoder\n",
        "class Encoder(nn.Module):\n",
        "    def __init__(self, input_size, latent_size):\n",
        "        super().__init__()\n",
        "        self.model = nn.Sequential(\n",
        "            nn.Linear(input_size, 64),\n",
        "            nn.ReLU(),\n",
        "            nn.Linear(64, latent_size)\n",
        "        )\n",
        "\n",
        "    def forward(self, x):\n",
        "        return self.model(x)\n",
        "\n",
        "class Decoder(nn.Module):\n",
        "    def __init__(self, latent_size, output_size):\n",
        "        super().__init__()\n",
        "        self.model = nn.Sequential(\n",
        "            nn.Linear(latent_size, 64),\n",
        "            nn.ReLU(),\n",
        "            nn.Linear(64, output_size)\n",
        "        )\n",
        "\n",
        "    def forward(self, z):\n",
        "        return self.model(z)\n",
        "\n",
        "# 🧠 Вторичная сеть\n",
        "class SecondaryNet(nn.Module):\n",
        "    def __init__(self, latent_size, output_size):\n",
        "        super().__init__()\n",
        "        self.model = nn.Sequential(\n",
        "            nn.Linear(latent_size, 64),\n",
        "            nn.ReLU(),\n",
        "            nn.Linear(64, 64),\n",
        "            nn.ReLU(),\n",
        "            nn.Linear(64, output_size)\n",
        "        )\n",
        "\n",
        "    def forward(self, x):\n",
        "        return self.model(x)\n",
        "\n",
        "# 📦 Сбор данных: состояния маятника\n",
        "print(\"📦 Сбор данных...\")\n",
        "all_states = []\n",
        "num_episodes = 200\n",
        "for _ in range(num_episodes):\n",
        "    state, _ = env.reset()\n",
        "    done = False\n",
        "    ep_states = []\n",
        "    while not done:\n",
        "        all_states.append(state)\n",
        "        ep_states.append(state)\n",
        "        action = env.action_space.sample()\n",
        "        state, _, terminated, truncated, _ = env.step(action)\n",
        "        done = terminated or truncated\n",
        "env.close()\n",
        "\n",
        "all_states = np.array(all_states)\n",
        "print(f\"✅ Получено {len(all_states)} состояний\")\n",
        "\n",
        "# ⚖️ Нормализация состояний\n",
        "scaler = StandardScaler()\n",
        "states_scaled = scaler.fit_transform(all_states)\n",
        "\n",
        "# 🔧 Обучение автоэнкодера\n",
        "encoder = Encoder(state_size, LATENT_SIZE).to(DEVICE)\n",
        "decoder = Decoder(LATENT_SIZE, state_size).to(DEVICE)\n",
        "ae_optimizer = optim.Adam(list(encoder.parameters()) + list(decoder.parameters()), lr=LR)\n",
        "ae_criterion = nn.MSELoss()\n",
        "\n",
        "states_tensor = torch.tensor(states_scaled, dtype=torch.float32).to(DEVICE)\n",
        "\n",
        "print(\"🧠 Обучение автоэнкодера...\")\n",
        "ae_losses = []\n",
        "for epoch in range(EPOCHS_AUTOENCODER):\n",
        "    perm = torch.randperm(len(states_tensor))\n",
        "    epoch_loss = 0\n",
        "    for i in range(0, len(states_tensor), BATCH_SIZE):\n",
        "        idx = perm[i:i+BATCH_SIZE]\n",
        "        batch = states_tensor[idx]\n",
        "        z = encoder(batch)\n",
        "        recon = decoder(z)\n",
        "        loss = ae_criterion(recon, batch)\n",
        "\n",
        "        ae_optimizer.zero_grad()\n",
        "        loss.backward()\n",
        "        ae_optimizer.step()\n",
        "\n",
        "        epoch_loss += loss.item()\n",
        "    avg_loss = epoch_loss / (len(states_tensor) // BATCH_SIZE)\n",
        "    ae_losses.append(avg_loss)\n",
        "    if epoch % 10 == 0:\n",
        "        print(f\"Эпоха {epoch}/{EPOCHS_AUTOENCODER}, Loss: {avg_loss:.4f}\")\n",
        "\n",
        "# 📈 Визуализация потерь автоэнкодера\n",
        "plt.plot(ae_losses)\n",
        "plt.title(\"Autoencoder Loss\")\n",
        "plt.xlabel(\"Epoch\")\n",
        "plt.ylabel(\"MSE\")\n",
        "plt.grid(True)\n",
        "plt.show()\n",
        "\n",
        "# 📦 Сбор пар: [latent_t] → state_{t+N}\n",
        "print(\"📦 Сбор данных для вторичной сети...\")\n",
        "X_latent = []\n",
        "y_future = []\n",
        "\n",
        "env = gym.make(ENV_NAME)\n",
        "for _ in range(100):\n",
        "    state, _ = env.reset()\n",
        "    done = False\n",
        "    ep_states = []\n",
        "\n",
        "    while not done:\n",
        "        ep_states.append(state)\n",
        "        action = env.action_space.sample()\n",
        "        state, _, terminated, truncated, _ = env.step(action)\n",
        "        done = terminated or truncated\n",
        "\n",
        "    # Обработка эпизода\n",
        "    if len(ep_states) > N_FUTURE_STEPS:\n",
        "        for i in range(len(ep_states) - N_FUTURE_STEPS):\n",
        "            current = scaler.transform([ep_states[i]])\n",
        "            future = ep_states[i + N_FUTURE_STEPS]\n",
        "\n",
        "            with torch.no_grad():\n",
        "                latent = encoder(torch.tensor(current, dtype=torch.float32).to(DEVICE)).cpu().numpy()[0]\n",
        "\n",
        "            X_latent.append(latent)\n",
        "            y_future.append(future)\n",
        "\n",
        "env.close()\n",
        "print(f\"✅ Собрано {len(X_latent)} пар [latent → future_state]\")\n",
        "\n",
        "# ⚖️ Нормализация целевых значений\n",
        "scaler_y = StandardScaler()\n",
        "y_future_scaled = scaler_y.fit_transform(y_future)\n",
        "\n",
        "# 🎯 Обучение вторичной сети\n",
        "secondary_net = SecondaryNet(LATENT_SIZE, state_size).to(DEVICE)\n",
        "secondary_optimizer = optim.Adam(secondary_net.parameters(), lr=LR)\n",
        "secondary_criterion = nn.SmoothL1Loss()\n",
        "\n",
        "X_tensor = torch.tensor(X_latent, dtype=torch.float32).to(DEVICE)\n",
        "y_tensor = torch.tensor(y_future_scaled, dtype=torch.float32).to(DEVICE)\n",
        "\n",
        "print(\"🧠 Обучение вторичной сети...\")\n",
        "secondary_losses = []\n",
        "for epoch in range(EPOCHS_SECONDARY):\n",
        "    perm = torch.randperm(len(X_tensor))\n",
        "    epoch_loss = 0\n",
        "    for i in range(0, len(X_tensor), BATCH_SIZE):\n",
        "        idx = perm[i:i+BATCH_SIZE]\n",
        "        batch_X = X_tensor[idx]\n",
        "        batch_y = y_tensor[idx]\n",
        "\n",
        "        pred = secondary_net(batch_X)\n",
        "        loss = secondary_criterion(pred, batch_y)\n",
        "\n",
        "        secondary_optimizer.zero_grad()\n",
        "        loss.backward()\n",
        "        secondary_optimizer.step()\n",
        "        epoch_loss += loss.item()\n",
        "\n",
        "    avg_loss = epoch_loss / (len(X_tensor) // BATCH_SIZE)\n",
        "    secondary_losses.append(avg_loss)\n",
        "    if epoch % 10 == 0:\n",
        "        print(f\"Эпоха {epoch}/{EPOCHS_SECONDARY}, Loss: {avg_loss:.4f}\")\n",
        "\n",
        "# 📈 Потери вторичной сети\n",
        "plt.plot(secondary_losses)\n",
        "plt.title(\"Secondary Network Loss\")\n",
        "plt.xlabel(\"Epoch\")\n",
        "plt.ylabel(\"Smooth L1 Loss\")\n",
        "plt.grid(True)\n",
        "plt.show()\n",
        "\n",
        "# 📊 Оценка\n",
        "with torch.no_grad():\n",
        "    preds_scaled = secondary_net(X_tensor).cpu().numpy()\n",
        "    preds = scaler_y.inverse_transform(preds_scaled)\n",
        "    y_true = scaler_y.inverse_transform(y_tensor.cpu().numpy())\n",
        "\n",
        "    mse_total = mean_squared_error(y_true, preds)\n",
        "    print(f\"\\n📉 MSE на обучающих данных: {mse_total:.4f}\")\n",
        "\n",
        "    # По компонентам\n",
        "    components = ['cos(θ)', 'sin(θ)', 'θ̇']\n",
        "    for i, comp in enumerate(components):\n",
        "        comp_mse = mean_squared_error(y_true[:, i], preds[:, i])\n",
        "        print(f\"  ▶️ MSE {comp}: {comp_mse:.4f}\")\n",
        "\n",
        "# 🔍 Пример предсказания\n",
        "idx = np.random.randint(0, len(X_tensor))\n",
        "with torch.no_grad():\n",
        "    pred = secondary_net(X_tensor[idx].unsqueeze(0)).cpu().numpy()\n",
        "    pred_real = scaler_y.inverse_transform(pred)[0]\n",
        "    true_real = y_future[idx]\n",
        "    error = np.mean((pred_real - true_real)**2)\n",
        "\n",
        "print(\"\\n🎯 Пример предсказания:\")\n",
        "print(f\"Предсказано (через {N_FUTURE_STEPS} шагов): {pred_real}\")\n",
        "print(f\"Истинное значение: {true_real}\")\n",
        "print(f\"Средняя ошибка: {error:.4f}\")"
      ],
      "metadata": {
        "colab": {
          "base_uri": "https://localhost:8080/",
          "height": 1000
        },
        "id": "K3YMxQcBzWqE",
        "outputId": "b6d216b0-efcb-49c9-c44f-9f37b416b83b"
      },
      "execution_count": null,
      "outputs": [
        {
          "output_type": "stream",
          "name": "stdout",
          "text": [
            "📟 Устройство: cpu\n",
            "📦 Сбор данных...\n",
            "✅ Получено 40000 состояний\n",
            "🧠 Обучение автоэнкодера...\n",
            "Эпоха 0/100, Loss: 0.0298\n",
            "Эпоха 10/100, Loss: 0.0000\n",
            "Эпоха 20/100, Loss: 0.0000\n",
            "Эпоха 30/100, Loss: 0.0000\n",
            "Эпоха 40/100, Loss: 0.0000\n",
            "Эпоха 50/100, Loss: 0.0000\n",
            "Эпоха 60/100, Loss: 0.0000\n",
            "Эпоха 70/100, Loss: 0.0000\n",
            "Эпоха 80/100, Loss: 0.0000\n",
            "Эпоха 90/100, Loss: 0.0000\n"
          ]
        },
        {
          "output_type": "display_data",
          "data": {
            "text/plain": [
              "<Figure size 640x480 with 1 Axes>"
            ],
            "image/png": "[encoded data removed]"
          },
          "metadata": {}
        },
        {
          "output_type": "stream",
          "name": "stdout",
          "text": [
            "📦 Сбор данных для вторичной сети...\n",
            "✅ Собрано 19500 пар [latent → future_state]\n",
            "🧠 Обучение вторичной сети...\n"
          ]
        },
        {
          "output_type": "stream",
          "name": "stderr",
          "text": [
            "<ipython-input-1-7e364789d74a>:167: UserWarning: Creating a tensor from a list of numpy.ndarrays is extremely slow. Please consider converting the list to a single numpy.ndarray with numpy.array() before converting to a tensor. (Triggered internally at /pytorch/torch/csrc/utils/tensor_new.cpp:254.)\n",
            "  X_tensor = torch.tensor(X_latent, dtype=torch.float32).to(DEVICE)\n"
          ]
        },
        {
          "output_type": "stream",
          "name": "stdout",
          "text": [
            "Эпоха 0/200, Loss: 0.0307\n",
            "Эпоха 10/200, Loss: 0.0037\n",
            "Эпоха 20/200, Loss: 0.0036\n",
            "Эпоха 30/200, Loss: 0.0036\n",
            "Эпоха 40/200, Loss: 0.0035\n",
            "Эпоха 50/200, Loss: 0.0036\n",
            "Эпоха 60/200, Loss: 0.0035\n",
            "Эпоха 70/200, Loss: 0.0035\n",
            "Эпоха 80/200, Loss: 0.0035\n",
            "Эпоха 90/200, Loss: 0.0035\n",
            "Эпоха 100/200, Loss: 0.0035\n",
            "Эпоха 110/200, Loss: 0.0035\n",
            "Эпоха 120/200, Loss: 0.0035\n",
            "Эпоха 130/200, Loss: 0.0035\n",
            "Эпоха 140/200, Loss: 0.0034\n",
            "Эпоха 150/200, Loss: 0.0034\n",
            "Эпоха 160/200, Loss: 0.0034\n",
            "Эпоха 170/200, Loss: 0.0034\n",
            "Эпоха 180/200, Loss: 0.0034\n",
            "Эпоха 190/200, Loss: 0.0034\n"
          ]
        },
        {
          "output_type": "display_data",
          "data": {
            "text/plain": [
              "<Figure size 640x480 with 1 Axes>"
            ],
            "image/png": "[encoded data removed]"
          },
          "metadata": {}
        },
        {
          "output_type": "stream",
          "name": "stdout",
          "text": [
            "\n",
            "📉 MSE на обучающих данных: 0.0474\n",
            "  ▶️ MSE cos(θ): 0.0021\n",
            "  ▶️ MSE sin(θ): 0.0021\n",
            "  ▶️ MSE θ̇: 0.1379\n",
            "\n",
            "🎯 Пример предсказания:\n",
            "Предсказано (через 5 шагов): [ 0.09326266 -0.96540993 -5.7668524 ]\n",
            "Истинное значение: [ 0.1377606 -0.9904656 -5.7439895]\n",
            "Средняя ошибка: 0.0010\n"
          ]
        }
      ]
    },
    {
      "cell_type": "markdown",
      "source": [
        "### Метрики"
      ],
      "metadata": {
        "id": "9I6XXoYBofoh"
      }
    }
  ],
  "metadata": {
    "accelerator": "GPU",
    "colab": {
      "collapsed_sections": [
        "YdSrMos06uD_",
        "FRQwvcyhDjpO",
        "NT92PAkrS3uz",
        "qDvkFy7ozYpV"
      ],
      "gpuType": "T4",
      "provenance": []
    },
    "kernelspec": {
      "display_name": "Python 3",
      "name": "python3"
    },
    "language_info": {
      "name": "python"
    }
  },
  "nbformat": 4,
  "nbformat_minor": 0
}